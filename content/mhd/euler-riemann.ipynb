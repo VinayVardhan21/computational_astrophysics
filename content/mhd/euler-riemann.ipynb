{
 "cells": [
  {
   "cell_type": "code",
   "execution_count": 1,
   "metadata": {},
   "outputs": [],
   "source": [
    "import matplotlib.pyplot as plt\n",
    "import numpy as np\n",
    "import scipy.optimize as optimize"
   ]
  },
  {
   "cell_type": "markdown",
   "metadata": {
    "slideshow": {
     "slide_type": "slide"
    }
   },
   "source": [
    "# Euler Riemann problem"
   ]
  },
  {
   "cell_type": "markdown",
   "metadata": {
    "slideshow": {
     "slide_type": "slide"
    }
   },
   "source": [
    "As for the Euler equations we need to compute the fluxes through the interface \n",
    "and solve the Riemann problem for the MHD equations.  We use the same formulations with \n",
    "left and right primitive variable states and we want to find the unique state on the interface:\n",
    "\n",
    "$${\\bf q}_{i+1/2} = \\mathcal{R}({\\bf q}_{i+1/2,L}, {\\bf q}_{i+1/2,R})$$\n",
    "\n",
    "Information about the jump across this interface will be carried away from the interface by now seven magnetohydrodynamic waves.  We can define eight regions separated by the seven waves.\n",
    "\n",
    "![MHD Riemann solution structure](mhd-riemann.png)\n",
    "\n",
    "$R1$ and $R8$ are just our original states&mdash;since no waves have reached them yet, the state is unchanged. The states in between are separated by the fast and slow magnetosonic, the Alfven waves, and the contact discontinuity."
   ]
  },
  {
   "cell_type": "markdown",
   "metadata": {
    "slideshow": {
     "slide_type": "slide"
    }
   },
   "source": [
    "## Solving the Riemann problem in MHD\n",
    "\n",
    "Solving the Riemann problem in MHD exactly is much harder than for the Euler equations.\n",
    "You can find details about some of the methods used here https://pure.mpg.de/rest/items/item_150800/component/file_150799/content#:~:text=The%20general%20Riemann%20problem%20in,the%20density%20may%20be%20discontinuous.\n",
    "As a result often approximative solvers are used for MHD simulations. Typical examples are the HLLE and HLLD Riemann solvers. Outside of the Riemann solvers we can use the same methods that we developed for the Euler equations to solve the MHD equations.\n",
   ]
  },
 ],
 "metadata": {
  "kernelspec": {
   "display_name": "Python 3 (ipykernel)",
   "language": "python",
   "name": "python3"
  },
  "language_info": {
   "codemirror_mode": {
    "name": "ipython",
    "version": 3
   },
   "file_extension": ".py",
   "mimetype": "text/x-python",
   "name": "python",
   "nbconvert_exporter": "python",
   "pygments_lexer": "ipython3",
   "version": "3.10.5"
  }
 },
 "nbformat": 4,
 "nbformat_minor": 4
}
