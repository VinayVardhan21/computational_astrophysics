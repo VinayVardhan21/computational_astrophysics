{
 "cells": [
  {
   "cell_type": "code",
   "execution_count": 2,
   "metadata": {
    "tags": [
     "hide-cell"
    ]
   },
   "outputs": [],
   "source": [
    "import numpy as np\n",
    "import matplotlib.pyplot as plt"
   ]
  },
  {
   "cell_type": "markdown",
   "metadata": {},
   "source": [
    "# Basic Methods for ODEs"
   ]
  },
  {
   "cell_type": "markdown",
   "metadata": {},
   "source": [
    "## Test case: orbits\n",
    "\n",
    "We'll use the case of the Earth orbiting the Sun as our test case (we'll assume that the mass of the Earth is insignificant compared to the mass of the Sun).\n",
    "\n",
    "This is a nice test case for integrating ODEs because we have a lot of intuition for the problem.  If we setup the orbit to be circular, we would expect the integration to keep Earth the same distance from the Sun as it evolves in its orbit.  If we see Earth spiraling inward or outward, then we know that our integration is not very accurate.\n",
    "\n",
    "Kepler's 3rd law (neglecting the orbiting object's mass) is:\n",
    "\n",
    "$$ 4\\pi^2 a^3 = G M_\\star P^2$$\n",
    "\n",
    "If we work in units of solar masses, astronomical units (AU), and years, then Kepler's third law is\n",
    "\n",
    "$$a^3 = P^2$$\n",
    "\n",
    "which implies that Newton's gravitational constant is $G = 4\\pi^2$\n",
    "\n",
    "We will put the Sun at the origin of coordinates.  \n",
    "\n",
    "![circular orbit around the Sun](ellipse_initial_cond_e0.0.png)\n",
    "\n",
    "Then our system of equations is\n",
    "\n",
    "$$\\dot{\\bf r} = {\\bf v}$$\n",
    "\n",
    "$$\\dot{\\bf v} = -\\frac{GM_\\star {\\bf r}}{r^3}$$\n",
    "\n",
    "where ${\\bf r} = (x, y)$ and ${\\bf v} = (v_x, v_y)$ "
   ]
  },
  {
   "cell_type": "markdown",
   "metadata": {},
   "source": [
    "## Euler's method\n",
    "\n",
    "The simplest method to advance the solution starts with the first-order difference approximations we found for a derivative:\n",
    "\n",
    "$$\\frac{{\\bf r}^{n+1} - {\\bf r}^n}{\\tau} = {\\bf v}^n + \\mathcal{O}(\\tau)$$\n",
    "\n",
    "$$\\frac{{\\bf v}^{n+1} - {\\bf v}^n}{\\tau} = {\\bf a}({\\bf r}^n, {\\bf v}^n) + \\mathcal{O}(\\tau)$$\n",
    "\n",
    "Here, $\\tau$ is the timestep we take and we denote the time-level of the state using a subscript,\n",
    "so $t^n$ is the current time and $t^{n+1} = t^n + \\tau$.\n",
    "\n",
    "Expressing the new state in terms of the old:\n",
    "\n",
    "$${\\bf r}^{n+1} = {\\bf r}^n + \\tau \\,{\\bf v}^n + \\mathcal{O}(\\tau^2)$$\n",
    "\n",
    "$${\\bf v}^{n+1} = {\\bf v}^n + \\tau \\,{\\bf a}({\\bf r}^n, {\\bf v}^n) + \\mathcal{O}(\\tau^2)$$\n",
    "\n",
    "The local error is $O(\\tau^2)$, but to evolve to some time $T$, we will take a large number of steps, $N$, $N = T/\\tau$, so globally, after evolving to the final time, we will have an error that is $O(\\tau)$.  Therefore Euler's method is first-order accurate.\n",
    "\n",
    "Graphically, for the ODE $\\dot{y} = -y$, Euler's method looks like:\n",
    "\n",
    "![Euler's method](rk2_Euler.png)\n",
    "\n",
    "We find the slope at $t^n$ and follow it forward for the full $\\tau$ to $t^{n+1}$."
   ]
  },
  {
   "cell_type": "markdown",
   "metadata": {},
   "source": [
    "Now let's do our orbits.  We need a function that returns the righthand side of the ODEs, so we'll write that first.  It's customary to supply a single vector of inputs and get a single vector of their derivatives, so we'll define\n",
    "\n",
    "$$ Y = \\left ( \\begin{array}{c} x \\\\ y \\\\ v_x \\\\ v_y \\end{array} \\right )$$"
   ]
  },
  {
   "cell_type": "code",
   "execution_count": 3,
   "metadata": {},
   "outputs": [],
   "source": [
    "G = 4*np.pi**2\n",
    "M_sun = 1.0\n",
    "\n",
    "def rhs(t, Y):\n",
    "    \n",
    "    # unpack just to make things easier to read\n",
    "    x, y, vx, vy = Y\n",
    "    \n",
    "    xdot = vx\n",
    "    ydot = vy\n",
    "    \n",
    "    r = np.sqrt(x * x + y * y)\n",
    "    \n",
    "    vxdot = -G * M_sun * x / r**3\n",
    "    vydot = -G * M_sun * y / r**3\n",
    "    \n",
    "    return np.array([xdot, ydot, vxdot, vydot])"
   ]
  },
  {
   "cell_type": "markdown",
   "metadata": {},
   "source": [
    "Many times and ODE solver will just give you the solution at the end of integration.  But we want to make plots, so we want to store the solution along the way.  We will create a special class to hold the solution at each step."
   ]
  },
  {
   "cell_type": "code",
   "execution_count": 4,
   "metadata": {},
   "outputs": [],
   "source": [
    "class OrbitHistory:\n",
    "    \"\"\"store the time history of the orbit solution\"\"\"\n",
    "    \n",
    "    def __init__(self):\n",
    "        self.t = []\n",
    "        self.x = []\n",
    "        self.y = []\n",
    "        self.vx = []\n",
    "        self.vy = []\n",
    "        \n",
    "    def store_current_solution(self, t, Y):\n",
    "        self.t.append(t)\n",
    "        self.x.append(Y[0])\n",
    "        self.y.append(Y[1])\n",
    "        self.vx.append(Y[2])\n",
    "        self.vy.append(Y[3])\n"
   ]
  },
  {
   "cell_type": "markdown",
   "metadata": {},
   "source": [
    "Now we can write a driver that takes the initial conditions and integrates to a time $T$ using a constant timestep $\\tau$."
   ]
  },
  {
   "cell_type": "code",
   "execution_count": 5,
   "metadata": {},
   "outputs": [],
   "source": [
    "def euler_orbit(Y0, tau, T):\n",
    "    \n",
    "    # we'll return an orbit history object\n",
    "    o = OrbitHistory()\n",
    "    \n",
    "    # storage for the new solution\n",
    "    Y = Y0.copy()\n",
    "    \n",
    "    # initialize time\n",
    "    t = 0\n",
    "    \n",
    "    # store the initial conditions\n",
    "    o.store_current_solution(t, Y0)\n",
    "    \n",
    "    # main timestep loop\n",
    "    while t < T:\n",
    "        \n",
    "        # make sure that the last step does not take us past T\n",
    "        if t + tau > T:\n",
    "            tau = T - t\n",
    "\n",
    "        # get the RHS\n",
    "        Ydot = rhs(t, Y)\n",
    "        \n",
    "        # do the Euler update\n",
    "        Y += tau * Ydot\n",
    "        t += tau\n",
    "        \n",
    "        # store the state\n",
    "        o.store_current_solution(t, Y)\n",
    "        \n",
    "    return o\n",
    "        "
   ]
  },
  {
   "cell_type": "markdown",
   "metadata": {},
   "source": [
    "We'll start out on the +y axis and give the Earth a counterclockwise circular velocity."
   ]
  },
  {
   "cell_type": "code",
   "execution_count": 6,
   "metadata": {},
   "outputs": [],
   "source": [
    "x0 = 0\n",
    "y0 = 1\n",
    "vx0 = -np.sqrt(G*M_sun/y0)\n",
    "vy0 = 0\n",
    "\n",
    "Y0 = np.array([x0, y0, vx0, vy0])"
   ]
  },
  {
   "cell_type": "markdown",
   "metadata": {},
   "source": [
    "Now let's integrate for one period (T = 1, since our time units are years).  We'll our timestep to be 1 month&mdash;let's see how we do with that."
   ]
  },
  {
   "cell_type": "code",
   "execution_count": 7,
   "metadata": {},
   "outputs": [],
   "source": [
    "T = 1\n",
    "tau = T/12.0\n",
    "\n",
    "orbit = euler_orbit(Y0, tau, 1)"
   ]
  },
  {
   "cell_type": "markdown",
   "metadata": {},
   "source": [
    "Let's plot the solution."
   ]
  },
  {
   "cell_type": "code",
   "execution_count": 8,
   "metadata": {},
   "outputs": [
    {
     "data": {
      "text/plain": [
       "Text(0, 0.5, 'y [AU]')"
      ]
     },
     "execution_count": 8,
     "metadata": {},
     "output_type": "execute_result"
    },
    {
     "data": {
      "image/png": "[encoded data removed]",
      "text/plain": [
       "<Figure size 640x480 with 1 Axes>"
      ]
     },
     "metadata": {},
     "output_type": "display_data"
    }
   ],
   "source": [
    "fig = plt.figure()\n",
    "ax = fig.add_subplot(111)\n",
    "\n",
    "# draw the Sun\n",
    "ax.scatter([0], [0], marker=(20,1), color=\"y\", s=250)\n",
    "\n",
    "# draw the orbit\n",
    "ax.plot(orbit.x, orbit.y)\n",
    "\n",
    "ax.set_aspect(\"equal\")\n",
    "ax.set_xlabel(\"x [AU]\")\n",
    "ax.set_ylabel(\"y [AU]\")"
   ]
  },
  {
   "cell_type": "markdown",
   "metadata": {},
   "source": [
    "The solution looks awful.  It should be a circle, and after 1 year, we should be right back at where we started.  Let's look at how we converge with the size of the timestep, $\\tau$."
   ]
  },
  {
   "cell_type": "code",
   "execution_count": 9,
   "metadata": {},
   "outputs": [
    {
     "data": {
      "text/plain": [
       "Text(0, 0.5, 'y [AU]')"
      ]
     },
     "execution_count": 9,
     "metadata": {},
     "output_type": "execute_result"
    },
    {
     "data": {
      "image/png": "[encoded data removed]",
      "text/plain": [
       "<Figure size 640x480 with 1 Axes>"
      ]
     },
     "metadata": {},
     "output_type": "display_data"
    }
   ],
   "source": [
    "fig = plt.figure()\n",
    "ax = fig.add_subplot(111)\n",
    "\n",
    "# draw the Sun\n",
    "ax.scatter([0], [0], marker=(20,1), color=\"y\", s=250)\n",
    "\n",
    "taus = [0.1, 0.01, 0.001]\n",
    "\n",
    "for tau in taus:\n",
    "    orbit = euler_orbit(Y0, tau, 1)\n",
    "    \n",
    "    ax.plot(orbit.x, orbit.y, label=rf\"$\\tau = {tau:6.4f}$\")\n",
    "\n",
    "ax.set_aspect(\"equal\")\n",
    "ax.legend()\n",
    "ax.set_xlabel(\"x [AU]\")\n",
    "ax.set_ylabel(\"y [AU]\")"
   ]
  },
  {
   "cell_type": "markdown",
   "metadata": {},
   "source": [
    "Clearly our solution gets better as we reduce the timestep, but we need to reduce it a lot.  At the top we said that the Euler method is globally first-order accurate.  Let's try to confirm that and then let's look at how we can do higher-order integration."
   ]
  },
  {
   "cell_type": "markdown",
   "metadata": {},
   "source": [
    "## Measuring convergence\n",
    "\n",
    "Imagine evolving for a single period and then asking how well did the integrator do.  We need some metric to determine this.  We can imagine a few different measures:\n",
    "\n",
    "1. compare the current distance to the Sun to the original distance to the Sun\n",
    "\n",
    "2. compute the distance from the current $(x, y)$ position to the starting position\n",
    "\n",
    "3. compute the total energy at the end of the integration and compare to the initial total energy.\n",
    "\n",
    "There are likely many more.  Unlike the integrals we did previously, where the natural error to compute was the difference between the numerical integral and the analytic one, here there is not a single obvious metric.  So we should pick one or more and look for convergence.  Depending on what our goal is, one metric might be more meaningful than another."
   ]
  },
  {
   "cell_type": "markdown",
   "metadata": {},
   "source": [
    "Let's define an error function based on metric 1 above"
   ]
  },
  {
   "cell_type": "code",
   "execution_count": 10,
   "metadata": {},
   "outputs": [],
   "source": [
    "def error(history):\n",
    "    \n",
    "    # define the error to be distance from (0, 0) at end compared to start\n",
    "    R_orig = np.sqrt(history.x[0]**2 + history.y[0]**2)\n",
    "    R_new = np.sqrt(history.x[-1]**2 + history.y[-1]**2)\n",
    "    e = np.abs(R_new - R_orig)\n",
    "    \n",
    "    return e"
   ]
  },
  {
   "cell_type": "markdown",
   "metadata": {},
   "source": [
    "Now let's integrate a bunch of orbits, reducing $\\tau$ by 2 each time.  Since this is first order accurate, the error should decrease by a factor of 2."
   ]
  },
  {
   "cell_type": "code",
   "execution_count": 11,
   "metadata": {},
   "outputs": [
    {
     "name": "stdout",
     "output_type": "stream",
     "text": [
      "4.186923100574993\n",
      "2.63132561836189\n",
      "1.579518716431993\n",
      "0.8788126438377246\n",
      "0.45891625361582156\n"
     ]
    }
   ],
   "source": [
    "taus = [0.1, 0.05, 0.025, 0.0125, 0.00625]\n",
    "\n",
    "for tau in taus:\n",
    "    orbit = euler_orbit(Y0, tau, 1)\n",
    "    print(error(orbit))"
   ]
  },
  {
   "cell_type": "markdown",
   "metadata": {},
   "source": [
    "We see that the decrease in the error is essentially 2.  It is certainly not better than first-order accurate."
   ]
  }
 ],
 "metadata": {
  "kernelspec": {
   "display_name": "Python 3 (ipykernel)",
   "language": "python",
   "name": "python3"
  },
  "language_info": {
   "codemirror_mode": {
    "name": "ipython",
    "version": 3
   },
   "file_extension": ".py",
   "mimetype": "text/x-python",
   "name": "python",
   "nbconvert_exporter": "python",
   "pygments_lexer": "ipython3",
   "version": "3.11.1"
  }
 },
 "nbformat": 4,
 "nbformat_minor": 4
}
