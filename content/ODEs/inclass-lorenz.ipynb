{
 "cells": [
  {
   "cell_type": "markdown",
   "id": "03f06643-d37a-48c9-9206-66c84c8f97c6",
   "metadata": {},
   "source": [
    "# In-Class Example\n",
    "\n",
    "Let's practice writing a solver for an ODE system.\n",
    "\n",
    "We'll consider the [Lorenz system](https://en.wikipedia.org/wiki/Lorenz_system).  This is a toy-model of atmospheric convection.  In a seminal paper, [Deterministic Nonperiodic Flow](https://journals.ametsoc.org/view/journals/atsc/20/2/1520-0469_1963_020_0130_dnf_2_0_co_2.xml), Lorenz explored this system and showed that it exhibited [chaotic behavior](https://en.wikipedia.org/wiki/Chaos_theory).\n",
    "\n",
    "The system can be expressed as:\n",
    "\n",
    "\\begin{align*}\n",
    "\\frac{dx}{dt} &= \\sigma (y - x) \\\\\n",
    "\\frac{dy}{dt} &= x (r - z) - y \\\\\n",
    "\\frac{dz}{dt} &= xy - b z \n",
    "\\end{align*}\n",
    "\n",
    "where $x$ is related to the intensity of the convective motion, $y$ is related to the temperature difference between up and down currents, and $z$ is related to the departure of the temperature profile from linear (with height).  The constants have the following meanings: $\\sigma$ is the [Prandtl number](https://en.wikipedia.org/wiki/Prandtl_number), $r$ is the [Rayleigh number](https://en.wikipedia.org/wiki/Rayleigh_number) (scaled to the critical value), and $b$ is needed to define the critical Rayleigh number.\n",
    "\n",
    "Lorenz chose $\\sigma = 10$, $b = 8/3$, and $r = 28$"
   ]
  },
  {
   "cell_type": "markdown",
   "id": "d387f050-e182-4238-a314-f1211cc72576",
   "metadata": {},
   "source": [
    "<div class=\"alert alert-block alert-info\">\n",
    "\n",
    "**Exercise:**\n",
    "    \n",
    "Evolve this system using 4th-order Runge-Kutta and explore how the solution changes with small perturbations to the initial conditions.\n",
    "</div>"
   ]
  },
  {
   "cell_type": "code",
   "execution_count": null,
   "id": "678d22f2-1d0d-42fe-9643-02be3c041ccd",
   "metadata": {},
   "outputs": [],
   "source": []
  }
 ],
 "metadata": {
  "kernelspec": {
   "display_name": "Python 3 (ipykernel)",
   "language": "python",
   "name": "python3"
  },
  "language_info": {
   "codemirror_mode": {
    "name": "ipython",
    "version": 3
   },
   "file_extension": ".py",
   "mimetype": "text/x-python",
   "name": "python",
   "nbconvert_exporter": "python",
   "pygments_lexer": "ipython3",
   "version": "3.11.1"
  }
 },
 "nbformat": 4,
 "nbformat_minor": 5
}
