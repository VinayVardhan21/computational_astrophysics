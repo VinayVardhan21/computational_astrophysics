{
 "cells": [
  {
   "cell_type": "markdown",
   "id": "1219859e-559f-4e70-8677-e88aba507e40",
   "metadata": {},
   "source": [
    "# Application: Stellar Structure\n",
    "\n",
    "During most of their lifetimes, stars are in hydrostatic and thermal equilibrium, and the structure of a star is well-described by the equations of stellar structure:\n",
    "\n",
    "\\begin{align*}\n",
    "\\frac{dP}{dr} &= -\\rho \\frac{Gm}{r^2} \\\\\n",
    "\\frac{dm}{dr} &= 4\\pi r^2 \\rho \\\\\n",
    "\\frac{dT}{dr} &= -\\frac{3}{4ac} \\frac{\\kappa\\rho}{T^3} \\frac{F}{4\\pi r^2} \\\\\n",
    "\\frac{dF}{dr} &= 4\\pi r^2 \\rho q\n",
    "\\end{align*}\n",
    "\n",
    "with an equation of state, opacity, and energy generation rate of the form:\n",
    "\n",
    "\\begin{align*}\n",
    "P &= \\frac{\\rho k T}{\\mu_I m_u} + P_e + \\frac{1}{3} a T^4 \\\\\n",
    "\\kappa &= \\kappa_0 \\rho^a T^b \\\\\n",
    "q &= q_0 \\rho^m T^n\n",
    "\\end{align*}\n",
    "\n",
    "Here, $P$ is the pressure, $m$ is the mass enclosed inside a radius $r$, $T$ is the temperature, where we assume radiative equilibrium with $F$ describing an energy flux through a shell of radius $r$ and $\\kappa$ the opacity of the material.  Finally $q$ is the energy generation rate from nuclear processes.  \n",
    "\n",
    "This is a 2-point boundary value problem, with boundary conditions:\n",
    "\n",
    "\\begin{align*}\n",
    "r(m=0) &= 0 \\\\\n",
    "F(m=0) &= 0\n",
    "\\end{align*}\n",
    "\n",
    "at the center and\n",
    "\n",
    "\\begin{align*}\n",
    "P(m=M_\\star) &= 0 \\\\\n",
    "T(m=M_\\star) &= T_\\mathrm{eff} \n",
    "\\end{align*}\n",
    "\n",
    "at the surface.\n",
    "\n",
    "We'll look at a simplified model here."
   ]
  },
  {
   "cell_type": "markdown",
   "id": "f01f93bd-3abd-4ceb-9a0a-515b9c6609ec",
   "metadata": {
    "tags": []
   },
   "source": [
    "## Polytropes\n",
    "\n",
    "If we consider just the first 2 equations, hydrostatic equilibrium and mass continuity, we can close the system of equations if we have an equation of state of the form $P = P(\\rho)$.  This eliminates the need for the energy equations, simplifying the model and its solution.\n",
    "\n",
    "We'll assume an equation of state of the form:\n",
    "\n",
    "$$P = K \\rho^{1+1/n}$$\n",
    "\n",
    "where $n$ is called the _polytropic index_.\n",
    "\n"
   ]
  },
  {
   "cell_type": "markdown",
   "id": "0aa07037-f238-4005-be65-07c002b7b9f5",
   "metadata": {},
   "source": [
    "With a bit of algebra, we can combine these equations into a single second-order ODE for density:\n",
    "\n",
    "$$\\left ( \\frac{n+1}{n} \\right ) \\frac{K}{4\\pi G} \\frac{1}{r^2} \\frac{d}{dr} \\left ( \\frac{r^2}{\\rho^{(n-1)/n}} \\frac{d\\rho}{dr} \\right ) = -\\rho$$\n",
    "\n",
    "and then make it dimensionless, but expressing the density in terms of the central density, $\\rho_c$:\n",
    "\n",
    "$$\\rho(r) = \\rho_c \\theta^n(r)$$\n",
    "\n",
    "where we note that $0 \\le \\theta \\le 1$, and a lenghtscale $\\alpha$ such that $r = \\alpha \\xi$:\n",
    "\n",
    "$$\\alpha^2 = \\frac{(n+1)P_c}{4\\pi G\\rho_c^2}$$\n",
    "\n",
    "Giving\n",
    "\n",
    "$$\\frac{1}{\\xi^2}\\frac{d}{d\\xi} \\left ( \\xi^2 \\frac{d\\theta}{d\\xi} \\right ) = -\\theta^n$$\n",
    "\n",
    "The boundary conditions are:\n",
    "\n",
    "* $\\theta(\\xi=0) = 1$\n",
    "* $d\\theta / d\\xi |_{\\xi=0} = 0$ (symmetry about the origin + HSE)\n",
    "\n",
    "but we don't know where the surface lies.  It is defined as $\\xi_1$ as:\n",
    "\n",
    "$$\\xi_1 : \\, \\theta(\\xi_1) = 0$$\n",
    "\n",
    "This is called the [Lane-Emden equation](https://en.wikipedia.org/wiki/Lane%E2%80%93Emden_equation), and it has analytic solutions for $n = 0, 1, 5$.\n",
    "\n",
    "Once you have the solution, you can get back physical quantities, including the mass of the star, the central pressure, average density, etc.  A large number of [stellar systems are well-represented by polytropes](https://en.wikipedia.org/wiki/Polytrope#Example_models_by_polytropic_index).\n",
    "\n"
   ]
  },
  {
   "cell_type": "markdown",
   "id": "695aed83-0064-45bf-a2b2-91d26359a6b1",
   "metadata": {},
   "source": [
    "## Solving the Lane-Emden equation\n",
    "\n",
    "There are a variety of ways to solve this equation.  We are going to use the ideas from the boundary value example to integrate.\n",
    "\n",
    "We'll use 4th order RK integration and we'll integrate both inward from the surface and outward from the center and meet at some point in the middle, $\\xi_\\mathrm{fit}$.\n",
    "\n",
    "We rewrite our system by defining:\n",
    "\n",
    "\\begin{align*}\n",
    "y &= \\theta \\\\\n",
    "z &= d\\theta/d\\xi = dy/d\\xi\n",
    "\\end{align*}\n",
    "\n",
    "then our system is:\n",
    "\n",
    "\\begin{align*}\n",
    "\\frac{dy}{d\\xi} &= z \\\\\n",
    "\\frac{dz}{d\\xi} &= -y^n - \\frac{2}{\\xi} z\n",
    "\\end{align*}\n",
    "\n",
    "At $\\xi = 0$, the righthand side of $dz/d\\xi$ looks like it blows up, but in the limit $\\xi \\rightarrow 0$, it can be shown to be:\n",
    "\n",
    "$$\\frac{dz}{d\\xi} \\approx -\\frac{1}{3}$$"
   ]
  },
  {
   "cell_type": "markdown",
   "id": "56b2c841-f382-4347-9002-53b52acdfb00",
   "metadata": {},
   "source": [
    "We're going to integrate outward from the center and inward from the surface and meet in the middle.\n",
    "\n",
    "At the center, our boundary conditions are:\n",
    "\n",
    "* $y(0) = 1$\n",
    "* $z(0) = 0$\n",
    "\n",
    "and at the surface, $\\xi_s$, they are:\n",
    "\n",
    "* $y(\\xi_s) = 0$\n",
    "* $z(\\xi_s) = \\alpha$\n",
    "\n",
    "Initially, we don't know either $\\alpha$ or $\\xi_s$.\n",
    "\n",
    "Our algorithm will proceed as follows:\n",
    "\n",
    "* Take an initial guess for $\\alpha$ and $\\xi_s$.  Pick $\\xi_f = \\xi/2$.\n",
    "\n",
    "* Integrate from the center outward to the fit point, $\\xi_f$, getting the solution: $y_\\mathrm{out}(\\xi_f)$, $z_\\mathrm{out}(\\xi_f)$.\n",
    "\n",
    "* Integrate from the surface (starting at the guess $\\xi_s$ inward to the fit point, getting the\n",
    "solution $y_\\mathrm{in}(\\xi_f)$, $z_\\mathrm{in}(\\xi_f)$\n",
    "\n",
    "* Constrain the solution to match at the fit point by finding the zero of:\n",
    "\n",
    "  \\begin{align*}\n",
    "  Y(\\alpha, \\xi_s) &\\equiv y_\\mathrm{in}(\\xi_f) - y_\\mathrm{out}(\\xi_f) = 0 \\\\\n",
    "  Z(\\alpha, \\xi_s) &\\equiv z_\\mathrm{in}(\\xi_f) - z_\\mathrm{out}(\\xi_f) = 0\n",
    "  \\end{align*}\n",
    "  \n",
    "  we will do this via the secant method.  This will yield a new guess for $\\alpha$ and $\\xi_s$.\n",
    "  \n",
    "* Iterate over this procedure until the $\\alpha$ and $\\xi_s$ converge."
   ]
  },
  {
   "cell_type": "code",
   "execution_count": 1,
   "id": "32fa235d-1c32-4c37-98ec-7d0e0e7a78de",
   "metadata": {},
   "outputs": [],
   "source": [
    "import numpy as np\n",
    "import matplotlib.pyplot as plt\n",
    "from scipy.integrate import solve_ivp"
   ]
  },
  {
   "cell_type": "code",
   "execution_count": 2,
   "id": "58b0b67e-14ee-41e2-a2c1-65fac602bd37",
   "metadata": {},
   "outputs": [],
   "source": [
    "def rhs(xi, H, n):\n",
    "    \n",
    "    y = H[0]\n",
    "    z = H[1]\n",
    "\n",
    "    f0 = z\n",
    "\n",
    "    if xi == 0.0:\n",
    "        f1 = 2.0/3.0 - y**n\n",
    "    else:\n",
    "        f1 = -2.0*z/xi - y**n\n",
    "\n",
    "    return np.array([f0, f1])"
   ]
  },
  {
   "cell_type": "markdown",
   "id": "2f789838-bcd6-49b7-abbc-3e4461e6e51a",
   "metadata": {},
   "source": [
    "We'll use SciPy's implementation of 4th order Runge-Kutta here"
   ]
  },
  {
   "cell_type": "code",
   "execution_count": 7,
   "id": "9a4baee8-5396-4636-9f76-d50447b6d408",
   "metadata": {},
   "outputs": [],
   "source": [
    "def le_integrate(xi_start, xi_end, H0, n):\n",
    "\n",
    "    sol = solve_ivp(rhs, (xi_start, xi_end), H0,\n",
    "                    method=\"RK45\", rtol=1.e-8, atol=1.e-8, args=(n,))\n",
    "\n",
    "    xi = sol.t\n",
    "    y = sol.y[0, :]\n",
    "    z = sol.y[1, :]\n",
    "\n",
    "    return xi, y, z"
   ]
  },
  {
   "cell_type": "markdown",
   "id": "47a23fb1-9866-4269-afa0-54fef1317f77",
   "metadata": {},
   "source": [
    "Now, we still need to understand how to solve for 2 roots from 2 equations (so far, we've only done the scalar case).\n",
    "\n",
    "Let's Taylor expand our functions $Y$ and $Z$:\n",
    "\n",
    "\\begin{align*}\n",
    "Y(\\alpha +\\Delta \\alpha, \\xi_s + \\Delta \\xi_s) &= Y(\\alpha, \\xi_s) + \\frac{\\partial Y}{\\partial \\alpha} \\Delta \\alpha + \\frac{\\partial Y}{\\partial \\xi_s} \\Delta \\xi_s \\sim 0 \\\\\n",
    "Z(\\alpha +\\Delta \\alpha, \\xi_s + \\Delta \\xi_s) &= Z(\\alpha, \\xi_s) + \\frac{\\partial Z}{\\partial \\alpha} \\Delta \\alpha + \\frac{\\partial Z}{\\partial \\xi_s} \\Delta \\xi_s \\sim 0 \n",
    "\\end{align*}\n",
    "\n",
    "We want to solve for the corrections, $\\Delta \\alpha$ and $\\Delta \\xi_s$ that zero this&mdash;this is Newton's method, but now for a system of equations.\n",
    "\n",
    "We can solve the first equation for $\\Delta \\alpha$:\n",
    "\n",
    "$$\\Delta \\alpha = \\left ( \\frac{\\partial Y}{\\partial\\alpha} \\right )^{-1} \\left [ \\frac{\\partial Y}{\\partial \\xi_s} \\Delta \\xi_s - Y \\right ]$$\n",
    "\n",
    "and then substitute this into the second equation and solve for $\\Delta \\xi_s$:\n",
    "\n",
    "$$\\Delta \\xi_s = \\frac{-Z + \\frac{\\partial Z}{\\partial \\alpha} \\left ( \\frac{\\partial Y}{\\partial \\alpha} \\right )^{-1} Y}{\\frac{\\partial Z}{\\partial \\xi_s} + \\frac{\\partial Z}{\\partial \\alpha} \\left ( \\frac{\\partial Y}{\\partial \\alpha} \\right)^{-1} \\frac{\\partial Y}{\\partial \\xi_s}}$$\n",
    "\n",
    "We still need the derivatives, which we will compute via differencing.\n",
    "\n",
    "For systems with more than 2 equations and 2 unknowns, it becomes tedious to analytically solve for the corrections.  Instead, as we'll see shortly, we can express this as a linear system and solve for the corrections using numerical linear algebra methods."
   ]
  },
  {
   "cell_type": "code",
   "execution_count": 8,
   "id": "035083a8-92e5-4e25-922d-9e021adbfd47",
   "metadata": {},
   "outputs": [],
   "source": [
    "def solve_le(n):\n",
    "\n",
    "    # initial guesses for the unknowns -- if we aren't careful with the\n",
    "    # guess at the outer boundary, we can get 2 roots.  Here we know that\n",
    "    # n = 1 has xi_s = pi\n",
    "\n",
    "    if n > 2.0:\n",
    "        xi_s = 8.0\n",
    "    else:\n",
    "        xi_s = np.pi\n",
    "\n",
    "    alpha = -0.01\n",
    "\n",
    "    # for numerical differentiation\n",
    "    eps = 1.e-8\n",
    "\n",
    "    # main iteration loop\n",
    "    converged = False\n",
    "    while not converged:\n",
    "\n",
    "        # fitting point\n",
    "        xi_fit = xi_s / 2.0\n",
    "\n",
    "        # baseline integration\n",
    "\n",
    "        # outward from the center\n",
    "        xi_out, y_out, z_out = le_integrate(0.0, xi_fit, [1.0, 0.0], n)\n",
    "\n",
    "        # inward from xi_s\n",
    "        xi_in, y_in, z_in = le_integrate(xi_s, xi_fit, [0.0, alpha], n)\n",
    "\n",
    "        # the two functions we want to zero\n",
    "        Ybase = y_in[-1] - y_out[-1]\n",
    "        Zbase = z_in[-1] - z_out[-1]\n",
    "\n",
    "        # now do alpha + eps*alpha, xi_s\n",
    "        # inward from xi_s\n",
    "        H0 = np.array([0.0, alpha*(1.0+eps)])\n",
    "        xi_in, y_in, z_in = le_integrate(xi_s, xi_fit, [0.0, alpha * (1.0 + eps)], n)\n",
    "\n",
    "        Ya = y_in[-1] - y_out[-1]\n",
    "        Za = z_in[-1] - z_out[-1]\n",
    "\n",
    "        # our derivatives\n",
    "        dYdalpha = (Ya - Ybase) / (alpha * eps)\n",
    "        dZdalpha = (Za - Zbase) / (alpha * eps)\n",
    "\n",
    "        # now do alpha, xi_s + eps*xi_s\n",
    "        # inward from xi_s\n",
    "        xi_in, y_in, z_in = le_integrate(xi_s  * (1.0 + eps), xi_fit, [0.0, alpha], n)\n",
    "\n",
    "        Yxi = y_in[-1] - y_out[-1]\n",
    "        Zxi = z_in[-1] - z_out[-1]\n",
    "\n",
    "        # our derivatives\n",
    "        dYdxi_s = (Yxi - Ybase) / (xi_s * eps)\n",
    "        dZdxi_s = (Zxi - Zbase) / (xi_s * eps)\n",
    "\n",
    "        # compute the correction for our two parameters\n",
    "        dxi_s = - (Zbase - dZdalpha * Ybase / dYdalpha) / \\\n",
    "                    (dZdxi_s - dZdalpha * dYdxi_s / dYdalpha)\n",
    "\n",
    "        dalpha = -(Ybase + dYdxi_s * dxi_s) / dYdalpha\n",
    "\n",
    "        # limit the changes per iteration\n",
    "        dalpha = min(abs(dalpha), 0.1 * abs(alpha)) * np.copysign(1.0, dalpha)\n",
    "        dxi_s = min(abs(dxi_s), 0.1 * abs(xi_s)) * np.copysign(1.0, dxi_s)\n",
    "                    \n",
    "        print(\"corrections: \", dalpha, dxi_s)\n",
    "        \n",
    "        alpha += dalpha\n",
    "        xi_s += dxi_s\n",
    "\n",
    "        if abs(dalpha) < eps * abs(alpha) and abs(dxi_s) < eps * abs(xi_s):\n",
    "            converged = True\n",
    "            \n",
    "    return xi_in, y_in, z_in, xi_out, y_out, z_out"
   ]
  },
  {
   "cell_type": "code",
   "execution_count": 9,
   "id": "07921fd0-51f5-4a08-93e8-2c5e124a93af",
   "metadata": {
    "tags": []
   },
   "outputs": [
    {
     "name": "stdout",
     "output_type": "stream",
     "text": [
      "corrections:  -0.001 -0.8\n",
      "corrections:  -0.0011 0.10411537220516173\n",
      "corrections:  -0.0012100000000000001 -0.40231553131875186\n",
      "corrections:  -0.001331 0.690179984088641\n",
      "corrections:  -0.0014641 -0.7591979824975051\n",
      "corrections:  -0.0016105100000000001 0.6832781842477547\n",
      "corrections:  -0.001771561 -0.7516060026725301\n",
      "corrections:  -0.0019487171000000002 0.6764454024052771\n",
      "corrections:  -0.0021435888100000003 -0.7440899426458047\n",
      "corrections:  -0.0023579476910000003 0.6696809483812243\n",
      "corrections:  -0.0025937424601 -0.6416915796252535\n",
      "corrections:  -0.00285311670611 0.5277771756258367\n",
      "corrections:  -0.0031384283767210003 -0.43660735407517903\n",
      "corrections:  -0.0034522712143931003 0.17551179820379134\n",
      "corrections:  -0.0037974983358324103 -0.09876215473169357\n",
      "corrections:  -0.0006486267803785131 0.004618588493748427\n",
      "corrections:  -8.642531938684979e-06 -0.0004880742673012163\n",
      "corrections:  -3.323924406755781e-10 6.118565806584366e-08\n"
     ]
    }
   ],
   "source": [
    "n = 3\n",
    "xi_in, y_in, z_in, xi_out, y_out, z_out = solve_le(n)"
   ]
  },
  {
   "cell_type": "code",
   "execution_count": 10,
   "id": "7a824e95-65fb-4324-8fce-eae27049ca4c",
   "metadata": {
    "tags": []
   },
   "outputs": [
    {
     "data": {
      "image/png": "[encoded data removed]",
      "text/plain": [
       "<Figure size 960x720 with 1 Axes>"
      ]
     },
     "metadata": {},
     "output_type": "display_data"
    }
   ],
   "source": [
    "fig, ax = plt.subplots()\n",
    "\n",
    "ax.plot(xi_in, y_in, color=\"C0\", label=r\"$\\theta$\")\n",
    "ax.plot(xi_out, y_out, color=\"C0\", ls=\"--\")\n",
    "\n",
    "ax.plot(xi_in, z_in, color=\"C1\", label=r\"$\\theta'$\")\n",
    "ax.plot(xi_out, z_out, color=\"C1\", ls=\"--\")\n",
    "\n",
    "ax.set_xlabel(r\"$\\xi$\", fontsize=14)\n",
    "ax.set_ylabel(r\"$\\theta,\\, \\theta'$\", fontsize=14)\n",
    "\n",
    "ax.legend(frameon=False, loc=\"best\")\n",
    "ax.grid()"
   ]
  },
  {
   "cell_type": "markdown",
   "id": "3c8ee0bc-f950-455d-b093-2664210f1ef7",
   "metadata": {},
   "source": [
    "Now we can get the surface of the polytrope, $\\xi_1$"
   ]
  },
  {
   "cell_type": "code",
   "execution_count": 16,
   "id": "585395f6-082c-406d-b520-4706fa550b98",
   "metadata": {},
   "outputs": [
    {
     "data": {
      "text/plain": [
       "6.896848900785904"
      ]
     },
     "execution_count": 16,
     "metadata": {},
     "output_type": "execute_result"
    }
   ],
   "source": [
    "xi1 = xi_in[0]\n",
    "xi1"
   ]
  },
  {
   "cell_type": "markdown",
   "id": "c018ee34-5e25-48fa-ac0b-6c6372d445e7",
   "metadata": {},
   "source": [
    "and $\\theta^\\prime$ at the surface:"
   ]
  },
  {
   "cell_type": "code",
   "execution_count": 17,
   "id": "821449eb-fcb3-4c74-b850-ee2c362439fa",
   "metadata": {
    "tags": []
   },
   "outputs": [],
   "source": [
    "dthetadxi_1 = z_in[0]"
   ]
  },
  {
   "cell_type": "markdown",
   "id": "d5b65fee-1dd4-49ef-86e8-777fddb69a04",
   "metadata": {},
   "source": [
    "A common quantity needed in finding physical values is $-\\xi_1^2 \\theta^\\prime |_{\\xi=\\xi_1}$"
   ]
  },
  {
   "cell_type": "code",
   "execution_count": 18,
   "id": "bbc5a309-4415-45f3-85fe-e3cefd629874",
   "metadata": {
    "tags": []
   },
   "outputs": [
    {
     "data": {
      "text/plain": [
       "2.018235801821596"
      ]
     },
     "execution_count": 18,
     "metadata": {},
     "output_type": "execute_result"
    }
   ],
   "source": [
    "-xi1**2 * dthetadxi_1"
   ]
  }
 ],
 "metadata": {
  "kernelspec": {
   "display_name": "Python 3 (ipykernel)",
   "language": "python",
   "name": "python3"
  },
  "language_info": {
   "codemirror_mode": {
    "name": "ipython",
    "version": 3
   },
   "file_extension": ".py",
   "mimetype": "text/x-python",
   "name": "python",
   "nbconvert_exporter": "python",
   "pygments_lexer": "ipython3",
   "version": "3.10.9"
  }
 },
 "nbformat": 4,
 "nbformat_minor": 5
}
