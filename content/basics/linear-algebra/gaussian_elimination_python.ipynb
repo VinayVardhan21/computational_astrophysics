{
 "cells": [
  {
   "cell_type": "markdown",
   "id": "fc84a7e1-d502-4996-b10e-b4f0e4d04d52",
   "metadata": {},
   "source": [
    "# Implementing Gaussian Elimination"
   ]
  },
  {
   "cell_type": "code",
   "execution_count": 2,
   "id": "0210c907-4945-4dd1-aeb7-e0d79619f5fe",
   "metadata": {},
   "outputs": [],
   "source": [
    "import numpy as np"
   ]
  },
  {
   "cell_type": "markdown",
   "id": "b6f12ff0-84f0-4aa5-9aca-d556d2afd3d6",
   "metadata": {},
   "source": [
    "We start with an implementation of Gaussian elimination as described previously.  Note that  a feature of this implementation is that the input `A` and `b` are changed by this routine, and on output they reflect the row-echelon\n",
    "form.  This is done to save memory.\n",
    "\n",
    "We also, by default, will print the steps along the way"
   ]
  },
  {
   "cell_type": "code",
   "execution_count": 4,
   "id": "ca2195a3-8fdb-470a-96a7-b71b044ba42f",
   "metadata": {},
   "outputs": [],
   "source": [
    "def gauss_elim(A, b, quiet=0):\n",
    "    \"\"\" perform gaussian elimination with pivoting, solving A x = b.\n",
    "\n",
    "        A is an NxN matrix, x and b are an N-element vectors.  Note: A\n",
    "        and b are changed upon exit to be in upper triangular (row\n",
    "        echelon) form \"\"\"\n",
    "\n",
    "    assert b.ndim == 1, \"ERROR: b should be a vector\"\n",
    "\n",
    "    N = len(b)\n",
    "\n",
    "    # A is square, with each dimension of length N\n",
    "    assert A.shape == (N, N), \"ERROR: A should be square with each dim of same length as b\"\n",
    "\n",
    "    # allocation the solution array\n",
    "    x = np.zeros((N), dtype=A.dtype)\n",
    "\n",
    "    # find the scale factors for each row -- this is used when pivoting\n",
    "    scales = np.max(np.abs(A), 1)\n",
    "\n",
    "    # keep track of the number of times we swapped rows\n",
    "    num_row_swap = 0\n",
    "\n",
    "    if not quiet:\n",
    "        print_Ab(A, b)\n",
    "\n",
    "    # main loop over rows\n",
    "    for k in range(N):\n",
    "\n",
    "        # find the pivot row based on the size of column k -- only consider\n",
    "        # the rows beyond the current row\n",
    "        row_max = np.argmax(A[k:, k]/scales[k:])\n",
    "        if k > 0:\n",
    "            row_max += k  # we sliced A from k:, correct for total rows\n",
    "\n",
    "        # swap the row with the largest scaled element in the current column\n",
    "        # with the current row (pivot) -- do this with b too!\n",
    "        if not row_max == k:\n",
    "            A[[k, row_max], :] = A[[row_max, k], :]\n",
    "            b[[k, row_max]] = b[[row_max, k]]\n",
    "            scales[[k, row_max]] = scales[[row_max, k]]\n",
    "            if not quiet:\n",
    "                print(\"pivoted\")\n",
    "            num_row_swap += 1\n",
    "\n",
    "        # do the forward-elimination for all rows below the current\n",
    "        for i in range(k+1, N):\n",
    "            coeff = A[i, k] / A[k, k]\n",
    "\n",
    "            for j in range(k+1, N):\n",
    "                A[i, j] += -A[k, j] * coeff\n",
    "\n",
    "            A[i, k] = 0.0\n",
    "            b[i] += -coeff * b[k]\n",
    "\n",
    "        if not quiet:\n",
    "            print_Ab(A, b)\n",
    "\n",
    "    # back-substitution\n",
    "\n",
    "    # last solution is easy\n",
    "    x[N-1] = b[N-1] / A[N-1, N-1]\n",
    "\n",
    "    for i in reversed(range(N-1)):\n",
    "        bsum = b[i]\n",
    "        for j in range(i+1, N):\n",
    "            bsum += -A[i, j] * x[j]\n",
    "        x[i] = bsum / A[i, i]\n",
    "\n",
    "    return x"
   ]
  },
  {
   "cell_type": "markdown",
   "id": "51cf273f-9d97-48ae-8e1c-3c33c6abbe3c",
   "metadata": {},
   "source": [
    "This routine prints the augmented matrix $({\\bf A} | {\\bf b})$."
   ]
  },
  {
   "cell_type": "code",
   "execution_count": 5,
   "id": "e544c292-c397-4ef3-878c-e68cfac31771",
   "metadata": {},
   "outputs": [],
   "source": [
    "def print_Ab(A, b):\n",
    "    \"\"\" printout the matrix A and vector b in a pretty fashion.  We\n",
    "        don't use the numpy print here, because we want to make them\n",
    "        side by side\"\"\"\n",
    "\n",
    "    N = len(b)\n",
    "\n",
    "    # draw pretty brackets\n",
    "\n",
    "    topl = \"\\u256d\"\n",
    "    topr = \"\\u256e\"\n",
    "    side = \"\\u2502\"\n",
    "    botl = \"\\u2570\"\n",
    "    botr = \"\\u256F\"\n",
    "\n",
    "    space = 8*\" \"\n",
    "\n",
    "    top_str = topl + N*\" {:>7.03f} \" + topr + space + topl + \" {:6.3f} \" + topr\n",
    "    sid_str = side + N*\" {:>7.03f} \" + side + space + side + \" {:6.3f} \" + side\n",
    "    bot_str = botl + N*\" {:>7.03f} \" + botr + space + botl + \" {:6.3f} \" + botr\n",
    "\n",
    "    print(\" \")\n",
    "    for i in range(N):\n",
    "        if i == 0:\n",
    "            pstr = top_str\n",
    "        elif i == N-1:\n",
    "            pstr = bot_str\n",
    "        else:\n",
    "            pstr = sid_str\n",
    "        out = tuple(A[i, :]) + (b[i],)\n",
    "        print(pstr.format(*out))"
   ]
  },
  {
   "cell_type": "markdown",
   "id": "c78b3fc7-861a-4870-be4b-0445c75f38b4",
   "metadata": {},
   "source": [
    "Now we can test this out."
   ]
  },
  {
   "cell_type": "code",
   "execution_count": 8,
   "id": "3bd7a523-d78a-496b-afe7-d7ebfd98c56a",
   "metadata": {},
   "outputs": [
    {
     "name": "stdout",
     "output_type": "stream",
     "text": [
      " \n",
      "╭   1.000    1.000    1.000 ╮        ╭  6.000 ╮\n",
      "│  -1.000    2.000    0.000 │        │  3.000 │\n",
      "╰   2.000    0.000    1.000 ╯        ╰  5.000 ╯\n",
      " \n",
      "╭   1.000    1.000    1.000 ╮        ╭  6.000 ╮\n",
      "│   0.000    3.000    1.000 │        │  9.000 │\n",
      "╰   0.000   -2.000   -1.000 ╯        ╰ -7.000 ╯\n",
      " \n",
      "╭   1.000    1.000    1.000 ╮        ╭  6.000 ╮\n",
      "│   0.000    3.000    1.000 │        │  9.000 │\n",
      "╰   0.000    0.000   -0.333 ╯        ╰ -1.000 ╯\n",
      " \n",
      "╭   1.000    1.000    1.000 ╮        ╭  6.000 ╮\n",
      "│   0.000    3.000    1.000 │        │  9.000 │\n",
      "╰   0.000    0.000   -0.333 ╯        ╰ -1.000 ╯\n"
     ]
    }
   ],
   "source": [
    "A = np.array([[1, 1, 1],\n",
    "              [-1, 2, 0],\n",
    "              [2, 0, 1]], dtype=np.float64)\n",
    "b = np.array([6, 3, 5], dtype=np.float64)\n",
    "x = gauss_elim(A, b)"
   ]
  },
  {
   "cell_type": "code",
   "execution_count": 9,
   "id": "2f77fdaa-d8dd-4a7b-bf41-2e71850d860e",
   "metadata": {},
   "outputs": [
    {
     "name": "stdout",
     "output_type": "stream",
     "text": [
      "[1. 2. 3.]\n"
     ]
    }
   ],
   "source": [
    "print(x)"
   ]
  },
  {
   "cell_type": "markdown",
   "id": "6406cb05-8247-429b-b3e3-b36efc060097",
   "metadata": {},
   "source": [
    "To ensure that we got the right answer, we can compare ${\\bf A}{\\bf x}$ and ${\\bf b}$.  We can use the python matrix multiplication operator, `@`:"
   ]
  },
  {
   "cell_type": "code",
   "execution_count": 11,
   "id": "94270fc9-59a6-4258-8fb3-f303e8c3e755",
   "metadata": {},
   "outputs": [
    {
     "name": "stdout",
     "output_type": "stream",
     "text": [
      "[0. 0. 0.]\n"
     ]
    }
   ],
   "source": [
    "print(A @ x - b)"
   ]
  },
  {
   "cell_type": "code",
   "execution_count": null,
   "id": "a99c1bcb-567d-434b-82eb-ef457bffdc7e",
   "metadata": {},
   "outputs": [],
   "source": []
  }
 ],
 "metadata": {
  "kernelspec": {
   "display_name": "Python 3 (ipykernel)",
   "language": "python",
   "name": "python3"
  },
  "language_info": {
   "codemirror_mode": {
    "name": "ipython",
    "version": 3
   },
   "file_extension": ".py",
   "mimetype": "text/x-python",
   "name": "python",
   "nbconvert_exporter": "python",
   "pygments_lexer": "ipython3",
   "version": "3.10.9"
  }
 },
 "nbformat": 4,
 "nbformat_minor": 5
}
