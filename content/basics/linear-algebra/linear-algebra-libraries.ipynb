{
 "cells": [
  {
   "cell_type": "markdown",
   "id": "a1fd3307-bef0-4e4c-bf93-575fafae63bf",
   "metadata": {},
   "source": [
    "# Libraries for Linear Algebra"
   ]
  },
  {
   "cell_type": "markdown",
   "id": "82279a97-b735-4ed3-b705-5b489de97b20",
   "metadata": {},
   "source": [
    "## NumPy Linear Algebra\n",
    "\n",
    "The NumPy library has [a lot of linear algebra functions](https://numpy.org/doc/stable/reference/routines.linalg.html) that work directly on NumPy arrays.  It also uses the `@` operator to define matrix multiplication.  Let's look at some of these."
   ]
  },
  {
   "cell_type": "code",
   "execution_count": 3,
   "id": "d97267d1-b292-43bd-b1c6-7b4e85d6588e",
   "metadata": {
    "tags": []
   },
   "outputs": [],
   "source": [
    "import numpy as np"
   ]
  },
  {
   "cell_type": "markdown",
   "id": "ca6203fb-9e20-4578-9d01-3ae26b3d12cb",
   "metadata": {},
   "source": [
    "We can treat any two-dimensional array as a matrix."
   ]
  },
  {
   "cell_type": "code",
   "execution_count": 8,
   "id": "e3f45bce-8eeb-40c9-9021-a7892020e257",
   "metadata": {
    "tags": []
   },
   "outputs": [
    {
     "data": {
      "text/plain": [
       "array([[ 1,  2,  3],\n",
       "       [ 5,  7, 11],\n",
       "       [13, 17, 19]])"
      ]
     },
     "execution_count": 8,
     "metadata": {},
     "output_type": "execute_result"
    }
   ],
   "source": [
    "A = np.array([[1, 2, 3],\n",
    "              [5, 7, 11],\n",
    "              [13, 17, 19]])\n",
    "A"
   ]
  },
  {
   "cell_type": "markdown",
   "id": "3491b447-9fef-4223-96d3-b920fc7a5b86",
   "metadata": {},
   "source": [
    "Let's multiply this matrix and a vector"
   ]
  },
  {
   "cell_type": "code",
   "execution_count": 9,
   "id": "a24bf88b-92a8-493d-867a-cdb8461313f3",
   "metadata": {
    "tags": []
   },
   "outputs": [
    {
     "data": {
      "text/plain": [
       "array([ 14,  52, 104])"
      ]
     },
     "execution_count": 9,
     "metadata": {},
     "output_type": "execute_result"
    }
   ],
   "source": [
    "x = np.array([1, 2, 3])\n",
    "b = A @ x\n",
    "b"
   ]
  },
  {
   "cell_type": "markdown",
   "id": "3ca0b961-65c6-492d-a9f4-d931e667515e",
   "metadata": {},
   "source": [
    "We can solve the system ${\\bf A}{\\bf x} = {\\bf b}$ easily too:"
   ]
  },
  {
   "cell_type": "code",
   "execution_count": 10,
   "id": "89840ef8-26ef-4dd8-a8de-784c4430454b",
   "metadata": {
    "tags": []
   },
   "outputs": [
    {
     "data": {
      "text/plain": [
       "array([1., 2., 3.])"
      ]
     },
     "execution_count": 10,
     "metadata": {},
     "output_type": "execute_result"
    }
   ],
   "source": [
    "x = np.linalg.solve(A, b)\n",
    "x"
   ]
  },
  {
   "cell_type": "markdown",
   "id": "f3704398-ba5f-46d9-8cc2-d333713bc7ef",
   "metadata": {
    "tags": []
   },
   "source": [
    "We can also find the inverse:"
   ]
  },
  {
   "cell_type": "code",
   "execution_count": 12,
   "id": "7546f7cf-0513-4ca3-80d1-b479697db4f7",
   "metadata": {
    "tags": []
   },
   "outputs": [
    {
     "data": {
      "text/plain": [
       "array([[ 1.00000000e+00, -5.55111512e-17, -2.77555756e-17],\n",
       "       [ 2.77555756e-17,  1.00000000e+00,  8.32667268e-17],\n",
       "       [-2.41473508e-15,  3.88578059e-16,  1.00000000e+00]])"
      ]
     },
     "execution_count": 12,
     "metadata": {},
     "output_type": "execute_result"
    }
   ],
   "source": [
    "A_inv = np.linalg.inv(A)\n",
    "A @ A_inv"
   ]
  },
  {
   "cell_type": "markdown",
   "id": "797a3dc5-a6b1-495a-933a-49f7d6b95b6b",
   "metadata": {},
   "source": [
    "We see that we get back nearly the identity matrix when we do ${\\bf A}{\\bf A}^{-1}$"
   ]
  },
  {
   "cell_type": "markdown",
   "id": "03cd24b1-01e3-415c-b41b-d89b761512ca",
   "metadata": {},
   "source": [
    "In fact, we can easily create an identity matrix:"
   ]
  },
  {
   "cell_type": "code",
   "execution_count": 13,
   "id": "3cd7b878-b262-4113-ac22-1dce992000a7",
   "metadata": {
    "tags": []
   },
   "outputs": [
    {
     "data": {
      "text/plain": [
       "array([[1., 0., 0., 0., 0.],\n",
       "       [0., 1., 0., 0., 0.],\n",
       "       [0., 0., 1., 0., 0.],\n",
       "       [0., 0., 0., 1., 0.],\n",
       "       [0., 0., 0., 0., 1.]])"
      ]
     },
     "execution_count": 13,
     "metadata": {},
     "output_type": "execute_result"
    }
   ],
   "source": [
    "I = np.eye(5)\n",
    "I"
   ]
  },
  {
   "cell_type": "markdown",
   "id": "6e373aba-4574-4948-bd3f-875c3b6b26ea",
   "metadata": {
    "tags": []
   },
   "source": [
    "## BLAS, LINPACK, and LAPACK"
   ]
  },
  {
   "cell_type": "code",
   "execution_count": null,
   "id": "753cf7f2-efac-4000-a4be-777271fa3782",
   "metadata": {},
   "outputs": [],
   "source": []
  },
  {
   "cell_type": "markdown",
   "id": "e03987fe-c237-42f7-a185-cb1b1831a382",
   "metadata": {},
   "source": [
    "Even NumPy uses LAPACK under the hood&mdash;the [`numpy.linalg.solve`](https://numpy.org/doc/stable/reference/generated/numpy.linalg.solve.html) page shows that it uses `gesv`, which is the LAPACK general matrix solver (that uses LU decomposition internally)."
   ]
  },
  {
   "cell_type": "markdown",
   "id": "7a20c43d-7f11-4651-9b89-d58dc694224a",
   "metadata": {},
   "source": [
    "Some more modern C++ alternatives are listed here:\n",
    "https://scicomp.stackexchange.com/questions/26395/how-to-start-using-lapack-in-c"
   ]
  }
 ],
 "metadata": {
  "kernelspec": {
   "display_name": "Python 3 (ipykernel)",
   "language": "python",
   "name": "python3"
  },
  "language_info": {
   "codemirror_mode": {
    "name": "ipython",
    "version": 3
   },
   "file_extension": ".py",
   "mimetype": "text/x-python",
   "name": "python",
   "nbconvert_exporter": "python",
   "pygments_lexer": "ipython3",
   "version": "3.11.1"
  }
 },
 "nbformat": 4,
 "nbformat_minor": 5
}
