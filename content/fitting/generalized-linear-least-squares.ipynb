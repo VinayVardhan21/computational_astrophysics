{
 "cells": [
  {
   "cell_type": "markdown",
   "id": "401a50e9-2092-4029-bdfb-f618ce81c8bd",
   "metadata": {},
   "source": [
    "# General Linear Least Squares\n",
    "\n",
    "The _linear_ in linear least squares refers to how the parameters appear in the fitting function, $Y$.  So something of the form:\n",
    "\n",
    "$$Y(x; \\{a_j\\}) = \\sum_{j=1}^M a_j Y_j(x)$$\n",
    "\n",
    "is still linear in the $\\{a_j\\}$, even if the _basis functions_ $\\{Y_j\\}$ are nonlinear.  For example:\n",
    "\n",
    "$$Y(x; \\{a_j\\}) = a_1 + a_2 x + a_3 x^2$$\n",
    "\n",
    "is linear in the fit parameters $\\{ a_j\\}$.\n",
    "\n",
    "We can apply the same technique we just did for fitting to a line for this general case.\n",
    "\n",
    "The discussion in Garcia, _Numerical Methods for Physics_, gives a nice overview, which we loosely follow here."
   ]
  },
  {
   "cell_type": "markdown",
   "id": "2493b0d4-2dd0-4394-bcc3-a7d713be54e0",
   "metadata": {},
   "source": [
    "Our $\\chi^2$ is:\n",
    "\n",
    "$$\\chi^2(\\{a_j\\}) = \\sum_{i=1}^N \\frac{(Y(x_i; \\{a_j\\}) - y_i)^2}{\\sigma_i^2} =\n",
    "\\sum_{i=1}^N \\frac{1}{\\sigma_i^2} \\left [\\left (\\sum_{j=1}^M a_j Y_j(x_i)\\right ) - y_i \\right ]^2$$\n",
    "\n",
    "We can differentiate it with respect to one of the parameters, $a_k$:\n",
    "\n",
    "\\begin{align*}\n",
    "\\frac{\\partial \\chi^2}{\\partial a_k} \n",
    "    &= \\frac{\\partial}{\\partial a_k} \n",
    "          \\sum_{i=1}^N \\frac{1}{\\sigma_i^2} \\left [\\left (\\sum_{j=1}^M a_j Y_j(x_i)\\right ) - y_i \\right ]^2 \\\\\n",
    "    &= \\sum_{i=1}^N \\frac{1}{\\sigma_i^2} \n",
    "          \\frac{\\partial}{\\partial a_k} \\left [\\left (\\sum_{j=1}^M a_j Y_j(x_i)\\right ) - y_i \\right ]^2 \\\\\n",
    "    &= 2 \\sum_{i=1}^N \\frac{1}{\\sigma_i^2} \\left [\\left (\\sum_{j=1}^M a_j Y_j(x_i)\\right ) - y_i \\right ] Y_k(x_i) = 0\n",
    "\\end{align*}\n",
    "\n",
    "We can now rewrite this as:\n",
    "\n",
    "$$\\sum_{i=1}^N \\sum_{j=1}^M a_j \\frac{Y_j(x_i) Y_k(x_i)}{\\sigma_i^2} = \\sum_{i=1}^N \\frac{y_i Y_k(x_i)}{\\sigma_i^2}$$\n",
    "\n",
    "Defining the _design matrix_ as\n",
    "\n",
    "$$A_{ij} = \\frac{Y_j(x_i)}{\\sigma_i}$$\n",
    "\n",
    "and the source as:\n",
    "\n",
    "$$b_i = \\frac{y_i}{\\sigma_i}$$\n",
    "\n",
    "our system is:\n",
    "\n",
    "$$\\sum_{i=1}^N \\sum_{j=1}^M A_{ik} A_{ij} a_j = \\sum_{i=1}^N A_{ik} b_i$$\n",
    "\n",
    "which, by looking at which indices contract, gives us the linear system:\n",
    "\n",
    "$${\\bf A}^\\intercal {\\bf A} {\\bf a} = {\\bf A}^\\intercal {\\bf b}$$\n",
    "\n",
    "where ${\\bf A}^\\intercal {\\bf A}$ is an $M\\times M$ matrix.\n",
    "\n",
    "The procedure we described above is sometimes called [_ordinary least squares_](https://en.wikipedia.org/wiki/Ordinary_least_squares)."
   ]
  },
  {
   "cell_type": "markdown",
   "id": "3c445708-9d87-4590-86b2-1ba8965896af",
   "metadata": {},
   "source": [
    "## Parabolic Fit"
   ]
  },
  {
   "cell_type": "markdown",
   "id": "5ca5d2de-6472-466f-b4b7-687f5be985a6",
   "metadata": {},
   "source": [
    "Let's consider fitting to a function:\n",
    "\n",
    "$$Y(x; \\{a_j\\}) = \\sum_{j=1}^M a_j x^{j-1}$$\n",
    "\n",
    "for $M = 3$, this is:\n",
    "\n",
    "$$Y(x) = a_1 + a_2 x + a_3 x^2$$\n",
    "\n",
    "If we have 10 data points, $x_1, \\ldots, x_{10}$, then our matrix ${\\bf A}$ will take the form:\n",
    "\n",
    "$${\\bf A} = \\left (\\begin{array}{ccc} 1 & x_1 & x_1^2 \\\\\n",
    "                                      1 & x_2 & x_2^2 \\\\\n",
    "                                      \\vdots & \\vdots & \\vdots \\\\\n",
    "                                      1 & x_{10} & x_{10}^2 \n",
    "                                      \\end{array} \\right )$$"
   ]
  },
  {
   "cell_type": "code",
   "execution_count": 16,
   "id": "17f9b3d5-1369-44f9-8750-3f1852684e45",
   "metadata": {
    "tags": []
   },
   "outputs": [],
   "source": [
    "import numpy as np\n",
    "import matplotlib.pyplot as plt"
   ]
  },
  {
   "cell_type": "markdown",
   "id": "5be52c07-c498-428c-9e3c-ea373d2b44f7",
   "metadata": {},
   "source": [
    "Let's first write a function that takes an $x_i$ and returns the entires in a row of ${\\bf A}$"
   ]
  },
  {
   "cell_type": "code",
   "execution_count": 17,
   "id": "d2c5b919-a807-4a65-af7d-921bc9cb311e",
   "metadata": {
    "tags": []
   },
   "outputs": [],
   "source": [
    "def basis(x, M=3):\n",
    "    \"\"\" the basis function for the fit, x**n\"\"\"\n",
    "    \n",
    "    j = np.arange(M)\n",
    "    return x**j"
   ]
  },
  {
   "cell_type": "markdown",
   "id": "13cba454-5115-4804-80c5-9fbc47b79183",
   "metadata": {},
   "source": [
    "Now we'll write a function that takes our data and errors and sets up the linear system ${\\bf A}^\\intercal {\\bf A} {\\bf a} = {\\bf A}^\\intercal {\\bf b}$ and solves it."
   ]
  },
  {
   "cell_type": "code",
   "execution_count": 18,
   "id": "9e2a15fd-c32e-41e1-9333-76710ca45e45",
   "metadata": {
    "tags": []
   },
   "outputs": [],
   "source": [
    "def general_regression(x, y, yerr, M):\n",
    "    \"\"\" here, M is the number of fitting parameters.  We will fit to\n",
    "        a function that is linear in the a's, using the basis functions\n",
    "        x**j \"\"\"\n",
    "\n",
    "    N = len(x)\n",
    "\n",
    "    # construct the design matrix -- A_{ij} = Y_j(x_i)/sigma_i -- this is\n",
    "    # N x M.  Each row corresponds to a single data point, x_i, y_i\n",
    "    A = np.zeros((N, M), dtype=np.float64)\n",
    "\n",
    "    for i in range(N):\n",
    "        A[i,:] = basis(x[i], M) / yerr[i]\n",
    "\n",
    "    # construct the MxM matrix for the linear system, A^T A:\n",
    "    ATA = np.transpose(A) @ A\n",
    "\n",
    "    print(\"condition number of A^T A:\", np.linalg.cond(ATA))\n",
    "\n",
    "    # construct the RHS\n",
    "    b = np.transpose(A) @ (y / yerr)\n",
    "\n",
    "    # solve the system\n",
    "    a = np.linalg.solve(ATA, b)\n",
    "\n",
    "    # return the chisq\n",
    "    chisq = 0\n",
    "    for i in range(N):\n",
    "        chisq += (np.sum(a*basis(x[i], M)) - y[i])**2 / yerr[i]**2\n",
    "\n",
    "    chisq /= N-M\n",
    "\n",
    "    return a, chisq"
   ]
  },
  {
   "cell_type": "markdown",
   "id": "90f67e68-ddfc-4787-9b5c-9f4274b7e21f",
   "metadata": {},
   "source": [
    "Finally, we'll make up some experiment data that follows a parabola, but with a perturbation."
   ]
  },
  {
   "cell_type": "code",
   "execution_count": 19,
   "id": "eb27f072-0c98-473f-a5ab-58a2bacf666c",
   "metadata": {
    "tags": []
   },
   "outputs": [],
   "source": [
    "def y_experiment2(a1, a2, a3, sigma, x):\n",
    "    \"\"\" return the experimental data and error in a quadratic +\n",
    "    random fashion, with a1, a2, a3 the coefficients of the\n",
    "    quadratic and sigma is scale of the error.  This will be\n",
    "    poorly matched to a linear fit for a3 != 0 \"\"\"\n",
    "\n",
    "    N = len(x)\n",
    "    r = sigma * np.random.randn(N)\n",
    "    \n",
    "    y = a1 + a2*x + a3*x*x + r\n",
    "\n",
    "    return y, np.abs(r)"
   ]
  },
  {
   "cell_type": "code",
   "execution_count": 20,
   "id": "4bb57345-5d35-4924-bcba-3919e73d64f5",
   "metadata": {
    "tags": []
   },
   "outputs": [],
   "source": [
    "N = 40\n",
    "x = np.linspace(0, 100.0, N)\n",
    "\n",
    "# one-sigma error\n",
    "sigma = 5.0\n",
    "\n",
    "y, yerr = y_experiment2(2.0, 1.50, -0.02, sigma, x)"
   ]
  },
  {
   "cell_type": "code",
   "execution_count": 21,
   "id": "5a298f51-15e8-4845-9c3e-46713c9f864c",
   "metadata": {
    "tags": []
   },
   "outputs": [
    {
     "data": {
      "text/plain": [
       "<ErrorbarContainer object of 3 artists>"
      ]
     },
     "execution_count": 21,
     "metadata": {},
     "output_type": "execute_result"
    },
    {
     "data": {
      "image/png": "[encoded data removed]",
      "text/plain": [
       "<Figure size 640x480 with 1 Axes>"
      ]
     },
     "metadata": {},
     "output_type": "display_data"
    }
   ],
   "source": [
    "fig, ax = plt.subplots()\n",
    "\n",
    "ax.errorbar(x, y, yerr=yerr, fmt=\"o\")"
   ]
  },
  {
   "cell_type": "markdown",
   "id": "aa8c7af3-31d5-4d29-aa92-9df577aa82bd",
   "metadata": {},
   "source": [
    "Now let's do the fit of a parabola.  Along the way, we'll print out the condition number of the matrix ${\\bf A}^\\intercal{\\bf A}$."
   ]
  },
  {
   "cell_type": "code",
   "execution_count": 22,
   "id": "9d0c24c9-c301-4cd7-8102-6a0bd6c7f417",
   "metadata": {
    "tags": []
   },
   "outputs": [
    {
     "name": "stdout",
     "output_type": "stream",
     "text": [
      "condition number of A^T A: 509142379997300.6\n"
     ]
    }
   ],
   "source": [
    "# do the regression with M = 3 (1, x, x^2)\n",
    "M = 3\n",
    "a, chisq = general_regression(x, y, yerr, M)"
   ]
  },
  {
   "cell_type": "markdown",
   "id": "76558e74-443b-42ad-9b32-1d89789336d1",
   "metadata": {},
   "source": [
    "Notice that the condition number is quite large!"
   ]
  },
  {
   "cell_type": "code",
   "execution_count": 23,
   "id": "4a1a37eb-47c8-4129-ab6b-1d5f79638cee",
   "metadata": {
    "tags": []
   },
   "outputs": [
    {
     "data": {
      "image/png": "[encoded data removed]",
      "text/plain": [
       "<Figure size 640x480 with 1 Axes>"
      ]
     },
     "execution_count": 23,
     "metadata": {},
     "output_type": "execute_result"
    }
   ],
   "source": [
    "ax.plot(x, a[0] + a[1]*x + a[2]*x*x)\n",
    "fig"
   ]
  },
  {
   "cell_type": "markdown",
   "id": "8a037652-3984-4acf-bfc8-ab0f86380772",
   "metadata": {},
   "source": [
    "## Higher order fit"
   ]
  },
  {
   "cell_type": "code",
   "execution_count": 24,
   "id": "2df92f20-ac97-4beb-a1b6-5fdbc182f2c6",
   "metadata": {
    "tags": []
   },
   "outputs": [
    {
     "name": "stdout",
     "output_type": "stream",
     "text": [
      "condition number of A^T A: 2.6819853800506527e+40\n"
     ]
    },
    {
     "data": {
      "text/plain": [
       "[<matplotlib.lines.Line2D at 0x7fa86d2bd3c0>]"
      ]
     },
     "execution_count": 24,
     "metadata": {},
     "output_type": "execute_result"
    },
    {
     "data": {
      "image/png": "[encoded data removed]",
      "text/plain": [
       "<Figure size 640x480 with 1 Axes>"
      ]
     },
     "metadata": {},
     "output_type": "display_data"
    }
   ],
   "source": [
    "fig, ax = plt.subplots()\n",
    "M = 10\n",
    "a, chisq = general_regression(x, y, yerr, M)\n",
    "yfit = np.zeros((len(x)), dtype=x.dtype)\n",
    "for i in range(N):\n",
    "    base = basis(x[i], M)\n",
    "    yfit[i] = np.sum(a*base)\n",
    "\n",
    "ax.errorbar(x, y, yerr=yerr, fmt=\"o\")\n",
    "ax.plot(x, yfit)"
   ]
  },
  {
   "cell_type": "markdown",
   "id": "5a4bd938-89c6-438e-a7a9-2e2007d3833e",
   "metadata": {
    "tags": []
   },
   "source": [
    "The $M = 10$ polynomial fits, but the condition number is large.  It is not clear that going higher order here is wise."
   ]
  },
  {
   "cell_type": "markdown",
   "id": "b2d44d92-5cd2-45e6-bd2e-79a6127c6d5b",
   "metadata": {},
   "source": [
    "## Fitting and condition number\n",
    "\n",
    "It can be shown that if your basis function is orthonormal in the interval you are fitting over, then the condition number of the matrix ${\\bf A}^\\intercal {\\bf A}$ will be much lower.  For example, it we fit to the interval $[-1, 1]$, then the [Legendre polynomials](https://en.wikipedia.org/wiki/Legendre_polynomials) are a good basis.\n",
    "\n",
    "The text by Yakowitz & Szidarovszky has a good discussion on this."
   ]
  },
  {
   "cell_type": "markdown",
   "id": "3bf15fce-20b5-44c0-92bc-0d92bc89265c",
   "metadata": {},
   "source": [
    "## Errors in the fitting parameters\n",
    "\n",
    "It can be shown that the errors in the fitting parameters are:\n",
    "\n",
    "$$\\sigma_{a_j} = \\sqrt{C_{jj}}$$\n",
    "\n",
    "where\n",
    "\n",
    "$${\\bf C} = ({\\bf A}^\\intercal {\\bf A})^{-1}$$\n",
    "\n",
    "is the _covariance matrix_."
   ]
  }
 ],
 "metadata": {
  "kernelspec": {
   "display_name": "Python 3 (ipykernel)",
   "language": "python",
   "name": "python3"
  },
  "language_info": {
   "codemirror_mode": {
    "name": "ipython",
    "version": 3
   },
   "file_extension": ".py",
   "mimetype": "text/x-python",
   "name": "python",
   "nbconvert_exporter": "python",
   "pygments_lexer": "ipython3",
   "version": "3.10.9"
  }
 },
 "nbformat": 4,
 "nbformat_minor": 5
}
