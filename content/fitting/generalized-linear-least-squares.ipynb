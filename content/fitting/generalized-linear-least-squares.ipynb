{
 "cells": [
  {
   "cell_type": "markdown",
   "id": "401a50e9-2092-4029-bdfb-f618ce81c8bd",
   "metadata": {},
   "source": [
    "# Generalized Linear Least Squares\n",
    "\n",
    "The _linear_ in linear least squares refers to how the parameters appear in the fitting function, $Y$.  So something of the form:\n",
    "\n",
    "$$Y(x; \\{a_j\\}) = \\sum_{j=1}^M a_j Y_j(x)$$\n",
    "\n",
    "is still linear in the $\\{a_j\\}$, even if the _basis functions_ $\\{Y_j\\}$ are nonlinear.  For example:\n",
    "\n",
    "$$Y(x; \\{a_j\\}) = a_1 + a_2 x + a_3 x^2$$\n",
    "\n",
    "is linear in the fit parameters $\\{ a_j\\}$.\n",
    "\n",
    "We can apply the same technique we just did for fitting to a line for this general case."
   ]
  },
  {
   "cell_type": "markdown",
   "id": "2493b0d4-2dd0-4394-bcc3-a7d713be54e0",
   "metadata": {},
   "source": [
    "Our $\\chi^2$ is:\n",
    "\n",
    "$$\\chi^2(\\{a_j\\}) = \\sum_{i=1}^N \\frac{(Y(x_i; \\{a_j\\}) - y_i)^2}{\\sigma_i^2} =\n",
    "\\sum_{i=1}^N \\frac{1}{\\sigma_i^2} \\left [\\left (\\sum_{j=1}^M a_j Y_j(x_i)\\right ) - y_i \\right ]^2$$\n",
    "\n",
    "We can differentiate it with respect to one of the parameters, $a_k$:\n",
    "\n",
    "\\begin{align*}\n",
    "\\frac{\\partial \\chi^2}{\\partial a_k} \n",
    "    &= \\frac{\\partial}{\\partial a_k} \n",
    "          \\sum_{i=1}^N \\frac{1}{\\sigma_i^2} \\left [\\left (\\sum_{j=1}^M a_j Y_j(x_i)\\right ) - y_i \\right ]^2 \\\\\n",
    "    &= \\sum_{i=1}^N \\frac{1}{\\sigma_i^2} \n",
    "          \\frac{\\partial}{\\partial a_k} \\left [\\left (\\sum_{j=1}^M a_j Y_j(x_i)\\right ) - y_i \\right ]^2 \\\\\n",
    "    &= 2 \\sum_{i=1}^N \\frac{1}{\\sigma_i^2} \\left [\\left (\\sum_{j=1}^M a_j Y_j(x_i)\\right ) - y_i \\right ] Y_k(x_i) = 0\n",
    "\\end{align*}\n",
    "\n",
    "We can now rewrite this as:\n",
    "\n",
    "$$\\sum_{i=1}^N \\sum_{j=1}^M a_j \\frac{Y_j(x_i) Y_k(x_i)}{\\sigma_i^2} = \\sum_{i=1}^N \\frac{y_i Y_k(x_i)}{\\sigma_i^2}$$\n",
    "\n",
    "Defining the _design matrix_ as\n",
    "\n",
    "$$A_{ij} = \\frac{Y_j(x_i)}{\\sigma_i}$$\n",
    "\n",
    "and the source as:\n",
    "\n",
    "$$b_i = \\frac{y_i}{\\sigma_i}$$\n",
    "\n",
    "our system is:\n",
    "\n",
    "$$\\sum_{i=1}^N \\sum_{j=1}^M A_{ik} A_{ij} a_j = \\sum_{i=1}^N A_{ik} b_i$$\n",
    "\n",
    "which, by looking at which indices contract, gives us the linear system:\n",
    "\n",
    "$${\\bf A}^\\intercal {\\bf A} {\\bf a} = {\\bf A}^\\intercal {\\bf b}$$\n",
    "\n",
    "where ${\\bf A}^\\intercal {\\bf A}$ is an $M\\times M$ matrix."
   ]
  },
  {
   "cell_type": "code",
   "execution_count": null,
   "id": "b6b7bb92-27fe-40c9-99a0-c31b67cac464",
   "metadata": {},
   "outputs": [],
   "source": []
  }
 ],
 "metadata": {
  "kernelspec": {
   "display_name": "Python 3 (ipykernel)",
   "language": "python",
   "name": "python3"
  },
  "language_info": {
   "codemirror_mode": {
    "name": "ipython",
    "version": 3
   },
   "file_extension": ".py",
   "mimetype": "text/x-python",
   "name": "python",
   "nbconvert_exporter": "python",
   "pygments_lexer": "ipython3",
   "version": "3.10.9"
  }
 },
 "nbformat": 4,
 "nbformat_minor": 5
}
