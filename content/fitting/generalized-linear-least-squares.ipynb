{
 "cells": [
  {
   "cell_type": "markdown",
   "id": "401a50e9-2092-4029-bdfb-f618ce81c8bd",
   "metadata": {},
   "source": [
    "# Generalized Linear Least Squares\n",
    "\n",
    "The _linear_ in linear least squares refers to how the parameters appear in the fitting function, $Y$.  So something of the form:\n",
    "\n",
    "$$Y(x; \\{a_j\\}) = \\sum_{j=1}^M a_j Y_j(x)$$\n",
    "\n",
    "is still linear in the $\\{a_j\\}$, even if the _basis functions_ $\\{Y_j\\}$ are nonlinear.  For example:\n",
    "\n",
    "$$Y(x; \\{a_j\\}) = a_1 + a_2 x + a_3 x^2$$\n",
    "\n",
    "is linear in the fit parameters $\\{ a_j\\}$.\n",
    "\n",
    "We can apply the same technique we just did for fitting to a line for this general case."
   ]
  },
  {
   "cell_type": "markdown",
   "id": "2493b0d4-2dd0-4394-bcc3-a7d713be54e0",
   "metadata": {},
   "source": [
    "Our $\\chi^2$ is:\n",
    "\n",
    "$$\\chi^2(\\{a_j\\}) = \\sum_{i=1}^N \\frac{(Y(x_i; \\{a_j\\}) - y_i)^2}{\\sigma_i^2} =\n",
    "\\sum_{i=1}^N \\frac{1}{\\sigma_i^2} \\left [\\left (\\sum_{j=1}^M a_j Y_j(x_i)\\right ) - y_i \\right ]^2$$\n",
    "\n",
    "We can differentiate it with respect to one of the parameters, $a_k$:\n",
    "\n",
    "\\begin{align*}\n",
    "\\frac{\\partial \\chi^2}{\\partial a_k} \n",
    "    &= \\frac{\\partial}{\\partial a_k} \n",
    "          \\sum_{i=1}^N \\frac{1}{\\sigma_i^2} \\left [\\left (\\sum_{j=1}^M a_j Y_j(x_i)\\right ) - y_i \\right ]^2 \\\\\n",
    "    &= \\sum_{i=1}^N \\frac{1}{\\sigma_i^2} \n",
    "          \\frac{\\partial}{\\partial a_k} \\left [\\left (\\sum_{j=1}^M a_j Y_j(x_i)\\right ) - y_i \\right ]^2 \\\\\n",
    "    &= 2 \\sum_{i=1}^N \\frac{1}{\\sigma_i^2} \\left [\\left (\\sum_{j=1}^M a_j Y_j(x_i)\\right ) - y_i \\right ] Y_k(x_i) = 0\n",
    "\\end{align*}\n",
    "\n",
    "We can now rewrite this as:\n",
    "\n",
    "$$\\sum_{i=1}^N \\sum_{j=1}^M a_j \\frac{Y_j(x_i) Y_k(x_i)}{\\sigma_i^2} = \\sum_{i=1}^N \\frac{y_i Y_k(x_i)}{\\sigma_i^2}$$\n",
    "\n",
    "Defining the _design matrix_ as\n",
    "\n",
    "$$A_{ij} = \\frac{Y_j(x_i)}{\\sigma_i}$$\n",
    "\n",
    "and the source as:\n",
    "\n",
    "$$b_i = \\frac{y_i}{\\sigma_i}$$\n",
    "\n",
    "our system is:\n",
    "\n",
    "$$\\sum_{i=1}^N \\sum_{j=1}^M A_{ik} A_{ij} a_j = \\sum_{i=1}^N A_{ik} b_i$$\n",
    "\n",
    "which, by looking at which indices contract, gives us the linear system:\n",
    "\n",
    "$${\\bf A}^\\intercal {\\bf A} {\\bf a} = {\\bf A}^\\intercal {\\bf b}$$\n",
    "\n",
    "where ${\\bf A}^\\intercal {\\bf A}$ is an $M\\times M$ matrix."
   ]
  },
  {
   "cell_type": "markdown",
   "id": "3c445708-9d87-4590-86b2-1ba8965896af",
   "metadata": {},
   "source": [
    "## Parabolic Fit"
   ]
  },
  {
   "cell_type": "markdown",
   "id": "5ca5d2de-6472-466f-b4b7-687f5be985a6",
   "metadata": {},
   "source": [
    "Let's consider fitting to a function:\n",
    "\n",
    "$$Y(x; \\{a_j\\}) = \\sum_{j=1}^M a_j x^{j-1}$$\n",
    "\n",
    "for $M = 3$, this is:\n",
    "\n",
    "$$Y(x) = a_1 + a_2 x + a_3 x^2$$"
   ]
  },
  {
   "cell_type": "code",
   "execution_count": 6,
   "id": "17f9b3d5-1369-44f9-8750-3f1852684e45",
   "metadata": {
    "tags": []
   },
   "outputs": [],
   "source": [
    "import numpy as np\n",
    "import matplotlib.pyplot as plt"
   ]
  },
  {
   "cell_type": "code",
   "execution_count": 7,
   "id": "d2c5b919-a807-4a65-af7d-921bc9cb311e",
   "metadata": {
    "tags": []
   },
   "outputs": [],
   "source": [
    "def basis(M, x):\n",
    "    \"\"\" the basis function for the fit, x**n\"\"\"\n",
    "    \n",
    "    j = np.arange(M)\n",
    "    return x**j"
   ]
  },
  {
   "cell_type": "code",
   "execution_count": 8,
   "id": "9e2a15fd-c32e-41e1-9333-76710ca45e45",
   "metadata": {
    "tags": []
   },
   "outputs": [],
   "source": [
    "def general_regression(x, y, yerr, M):\n",
    "    \"\"\" here, M is the number of fitting parameters.  We will fit to\n",
    "        a function that is linear in the a's, using the basis functions\n",
    "        x**j \"\"\"\n",
    "\n",
    "    N = len(x)\n",
    "\n",
    "    # construct the design matrix -- A_{ij} = Y_j(x_i)/sigma_i -- this is\n",
    "    # N x M.  Each row corresponds to a single data point, x_i, y_i\n",
    "    A = np.zeros((N, M), dtype=np.float64)\n",
    "\n",
    "    for i in range(N):\n",
    "        A[i,:] = basis(M, x[i])/sigma[i]\n",
    "\n",
    "    # construct the MxM matrix for the linear system, A^T A:\n",
    "    ATA = np.transpose(A) @ A\n",
    "\n",
    "    print(\"condition number of A^T A:\", np.linalg.cond(ATA))\n",
    "\n",
    "    # construct the RHS\n",
    "    b = np.transpose(A) @ (y/sigma)\n",
    "\n",
    "    # solve the system\n",
    "    a = np.linalg.solve(ATA, b)\n",
    "\n",
    "    # return the chisq\n",
    "    chisq = 0\n",
    "    for i in range(N):\n",
    "        chisq += (np.sum(a*basis(M, x[i])) - y[i])**2/sigma[i]**2\n",
    "\n",
    "    chisq /= N-M\n",
    "\n",
    "    return a, chisq"
   ]
  },
  {
   "cell_type": "code",
   "execution_count": 9,
   "id": "eb27f072-0c98-473f-a5ab-58a2bacf666c",
   "metadata": {
    "tags": []
   },
   "outputs": [],
   "source": [
    "def y_experiment2(a1, a2, a3, sigma, x):\n",
    "    \"\"\" return the experimental data in a quadratic + random fashion,\n",
    "        with a1, a2, a3 the coefficients of the quadratic and sigma is\n",
    "        the error.  This will be poorly matched to a linear fit for\n",
    "        a3 != 0 \"\"\"\n",
    "\n",
    "    N = len(x)\n",
    "\n",
    "    # randn gives samples from the \"standard normal\" distribution\n",
    "    r = np.random.randn(N)\n",
    "\n",
    "    y = a1 + a2*x + a3*x*x + sigma*r\n",
    "\n",
    "    return y"
   ]
  },
  {
   "cell_type": "code",
   "execution_count": 11,
   "id": "4bb57345-5d35-4924-bcba-3919e73d64f5",
   "metadata": {
    "tags": []
   },
   "outputs": [],
   "source": [
    "N = 40\n",
    "x = np.linspace(0, 100.0, N)\n",
    "\n",
    "yerr = 5.0 * np.ones(N)\n",
    "\n",
    "y = y_experiment2(2.0, 1.50, -0.02, yerr, x)"
   ]
  },
  {
   "cell_type": "code",
   "execution_count": 12,
   "id": "5a298f51-15e8-4845-9c3e-46713c9f864c",
   "metadata": {
    "tags": []
   },
   "outputs": [
    {
     "data": {
      "text/plain": [
       "<ErrorbarContainer object of 3 artists>"
      ]
     },
     "execution_count": 12,
     "metadata": {},
     "output_type": "execute_result"
    },
    {
     "data": {
      "image/png": "[encoded data removed]",
      "text/plain": [
       "<Figure size 640x480 with 1 Axes>"
      ]
     },
     "metadata": {},
     "output_type": "display_data"
    }
   ],
   "source": [
    "fig, ax = plt.subplots()\n",
    "\n",
    "ax.errorbar(x, y, yerr=yerr, fmt=\"o\")"
   ]
  },
  {
   "cell_type": "code",
   "execution_count": 14,
   "id": "9d0c24c9-c301-4cd7-8102-6a0bd6c7f417",
   "metadata": {
    "tags": []
   },
   "outputs": [
    {
     "name": "stdout",
     "output_type": "stream",
     "text": [
      "condition number of A^T A: 169717921.7365837\n"
     ]
    }
   ],
   "source": [
    "# do the regression with M = 3 (1, x, x^2)\n",
    "M = 3\n",
    "a, chisq = general_regression(x, y, sigma, M)"
   ]
  },
  {
   "cell_type": "code",
   "execution_count": 15,
   "id": "4a1a37eb-47c8-4129-ab6b-1d5f79638cee",
   "metadata": {
    "tags": []
   },
   "outputs": [
    {
     "data": {
      "image/png": "[encoded data removed]",
      "text/plain": [
       "<Figure size 640x480 with 1 Axes>"
      ]
     },
     "execution_count": 15,
     "metadata": {},
     "output_type": "execute_result"
    }
   ],
   "source": [
    "ax.plot(x, a[0] + a[1]*x + a[2]*x*x)\n",
    "fig"
   ]
  },
  {
   "cell_type": "code",
   "execution_count": null,
   "id": "2a8bcd9f-4389-4e2f-b80d-91ae06e4d72d",
   "metadata": {},
   "outputs": [],
   "source": []
  }
 ],
 "metadata": {
  "kernelspec": {
   "display_name": "Python 3 (ipykernel)",
   "language": "python",
   "name": "python3"
  },
  "language_info": {
   "codemirror_mode": {
    "name": "ipython",
    "version": 3
   },
   "file_extension": ".py",
   "mimetype": "text/x-python",
   "name": "python",
   "nbconvert_exporter": "python",
   "pygments_lexer": "ipython3",
   "version": "3.10.9"
  }
 },
 "nbformat": 4,
 "nbformat_minor": 5
}
