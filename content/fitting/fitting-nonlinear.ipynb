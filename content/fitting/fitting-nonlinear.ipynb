{
 "cells": [
  {
   "cell_type": "markdown",
   "id": "a428f538-da3c-4a08-8912-30924aa99475",
   "metadata": {},
   "source": [
    "# Nonlinear Fitting\n",
    "\n",
    "What about the case of fitting to a function where the fit parameters enter in a nonlinear fashion?\n",
    "For example:\n",
    "\n",
    "$$f(x; a_0, a_1) = a_0 e^{a_1 x}$$\n",
    "\n",
    "One trick that is often used for something like this is to transform the data.  So instead of fitting the data $(x_i, y_i)$, you instead fit $(x_i, \\log y_i)$, and then our fitting function is:\n",
    "\n",
    "$$\\log f(x; a_0, a_1) = a_1 x + \\log a_0$$\n",
    "\n",
    "which is linear.\n",
    "\n",
    "However, when there are errors associated with the $y_i$, the errors do not necessarily transform the correct way when you take the logarithm.  \n",
    "\n",
    "So let's look at how we would fit directly to a nonlinear function."
   ]
  },
  {
   "cell_type": "markdown",
   "id": "e0a1919f-9a9e-4dd8-bcf8-a158d41034f4",
   "metadata": {},
   "source": [
    "We'll minimize the same fitting function:\n",
    "\n",
    "$$\\chi^2 = \\sum_{i=1}^N \\frac{(y_i - f(x; {\\bf a}))^2}{\\sigma_i^2}$$\n",
    "\n",
    "with fitting parameters ${\\bf a} = (a_1, \\ldots, a_M)^\\intercal$.\n",
    "\n",
    "Now we take the derivatives with respect to each paramter, $a_k$:\n",
    "\n",
    "$$\\frac{\\partial \\chi^2}{\\partial a_k} = -2 \\sum_{i=1}^N \\frac{(y_i - f(x, {\\bf a}))}{\\sigma_i^2} \\frac{\\partial f}{\\partial a_k} = 0$$\n",
    "\n",
    "Let's define $g_k \\equiv {\\partial \\chi^2}/{\\partial a_k}$, then we have\n",
    "\n",
    "$${\\bf g}({\\bf a}) = \\left ( \\begin{array}{c} g_1({\\bf a}) \\\\ g_2({\\bf a}) \\\\ \\vdots \\\\ g_M({\\bf a}) \\end{array} \\right ) = 0$$\n",
    "\n",
    "This is a nonlinear system of $M$ equations and $M$ unknowns.  We can solve this using the same multivariate Newton's method we looked at before:\n",
    "\n",
    "* Take an initial guess at the fit parameters, ${\\bf a}^{(k)}$\n",
    "* Solve the system ${\\bf J}\\delta {\\bf a} = -{\\bf g}$, where $J_{ij} = \\partial g_i/\\partial a_j$ is the Jacobian\n",
    "* Correct the initial guess, ${\\bf a}^{(k+1)} = {\\bf a}^{(k)} + \\delta {\\bf a}$\n",
    "\n",
    "As we've seen with Newton's method, convergence will be very sensitive to the initial guess."
   ]
  },
  {
   "cell_type": "markdown",
   "id": "1d2ecc32-4f9f-4740-a958-b1a950e6f716",
   "metadata": {},
   "source": [
    "## Fitting an exponential\n",
    "\n",
    "Let's try this out on data that is constructed to follow an exponential trend.\n",
    "\n",
    "First let's construct the data, and perturb it with some errors.  We'll take the form:\n",
    "\n",
    "$$y = a_0 e^{a_1 x}$$"
   ]
  },
  {
   "cell_type": "code",
   "execution_count": 1,
   "id": "31607783-1206-46ea-a117-48be5df1e308",
   "metadata": {
    "tags": []
   },
   "outputs": [],
   "source": [
    "import numpy as np\n",
    "import matplotlib.pyplot as plt"
   ]
  },
  {
   "cell_type": "code",
   "execution_count": 2,
   "id": "5fbf1c1d-2d9e-4fda-bd25-86e06309ab39",
   "metadata": {
    "tags": []
   },
   "outputs": [
    {
     "data": {
      "text/plain": [
       "<ErrorbarContainer object of 3 artists>"
      ]
     },
     "execution_count": 2,
     "metadata": {},
     "output_type": "execute_result"
    },
    {
     "data": {
      "image/png": "[encoded data removed]",
      "text/plain": [
       "<Figure size 640x480 with 1 Axes>"
      ]
     },
     "metadata": {},
     "output_type": "display_data"
    }
   ],
   "source": [
    "# make up some experimental data\n",
    "a0 = 2.5\n",
    "a1 = 2./3.\n",
    "sigma = 4.0\n",
    "\n",
    "N = 25\n",
    "\n",
    "x = np.linspace(0.0, 4.0, N)\n",
    "r = sigma * np.random.randn(N)\n",
    "y = a0 * np.exp(a1 * x) + r\n",
    "yerr = np.abs(r)\n",
    "\n",
    "fig, ax = plt.subplots()\n",
    "ax.errorbar(x, y, yerr=yerr, fmt=\"o\")"
   ]
  },
  {
   "cell_type": "markdown",
   "id": "c34a2666-1f96-4294-9452-f7fc4452b6b2",
   "metadata": {},
   "source": [
    "Now, let's compute our vector ${\\bf g}$ that we will zero:\n",
    "\n",
    "\\begin{align*}\n",
    "g_0 &= \\frac{\\partial \\chi^2}{\\partial a_0} = -2 \\sum_{i=1}^N \\frac{(y_i - a_0 e^{a_1 x_i})}{\\sigma_i^2} (e^{a_1 x_i}) \\\\\n",
    "g_1 &= \\frac{\\partial \\chi^2}{\\partial a_1} = -2 \\sum_{i=1}^N \\frac{(y_i - a_0 e^{a_1 x_i})}{\\sigma_i^2} (x_i a_0 e^{a_1 x_i})\n",
    "\\end{align*}\n",
    "\n",
    "We can divide out the $-2$ in each expression.  We'll keep the overall $a_0$ in the expression, to deal with the case where it might be $0$.\n",
    "\n",
    "Let's write a function to compute this:"
   ]
  },
  {
   "cell_type": "code",
   "execution_count": 3,
   "id": "dad40b07-7400-4000-a9bd-503d96ef0b91",
   "metadata": {
    "tags": []
   },
   "outputs": [],
   "source": [
    "def g(x, y, yerr, a):\n",
    "    \"\"\"compute the nonlinear functions we minimize.  Here a is the vector\n",
    "    of fit parameters\"\"\"\n",
    "    \n",
    "    a0, a1 = a\n",
    "    \n",
    "    g0 = np.sum(np.exp(a1 * x) * (y - a0 * np.exp(a1 * x)) / yerr**2)\n",
    "    g1 = a0 * np.sum(x * np.exp(a1 * x) * (y - a0 * np.exp(a1 * x)) / yerr**2)\n",
    "    \n",
    "    return np.array([g0, g1])"
   ]
  },
  {
   "cell_type": "markdown",
   "id": "55fcb030-71e0-49de-8477-66daaec0cffd",
   "metadata": {},
   "source": [
    "We also need the Jacobian.  We could either compute this numerically, via differencing, or analytically.  We'll do the latter.\n",
    "\n",
    "\\begin{align*}\n",
    "\\frac{\\partial g_0}{\\partial a_0} &= -\\sum_{i=1}^N \\frac{e^{2a_1 x_i}}{\\sigma_i^2} \\\\\n",
    "\\frac{\\partial g_0}{\\partial a_1} &= \\sum_{i=1}^N \\frac{x_i e^{a_1 x_i} (y_i - 2 a_0 e^{a_1 x_i})}{\\sigma_i^2} \\\\\n",
    "\\frac{\\partial g_1}{\\partial a_0} &=  \\sum_{i=1}^N \\frac{x_i e^{a_1 x_i} (y_i - 2 a_0 e^{a_1 x_i})}{\\sigma_i^2} \\\\\n",
    "\\frac{\\partial g_1}{\\partial a_1} &= \\sum_{i=1}^N \\frac{a_0 x_i^2 e^{a_1 x_i} (y_i - 2 a_0 e^{a_1 x_i})}{\\sigma_i^2}\n",
    "\\end{align*}\n",
    "\n",
    "Notice that the Jacobian is symmetric:\n",
    "\n",
    "$${\\bf J} = \\left ( \\begin{array}{cc}\n",
    "         \\frac{\\partial g_0}{\\partial a_0} & \\frac{\\partial g_0}{\\partial a_1} \\\\\n",
    "         \\frac{\\partial g_1}{\\partial a_0} & \\frac{\\partial g_1}{\\partial a_1} \\end{array} \\right )\n",
    "= \\left ( \\begin{array}{cc}\n",
    "         \\frac{\\partial^2 \\chi^2}{\\partial a_0^2} & \\frac{\\partial^2 \\chi^2}{\\partial a_0 \\partial a_1} \\\\\n",
    "         \\frac{\\partial^2 \\chi^2}{\\partial a_1 \\partial a_0} & \\frac{\\partial^2 \\chi^2}{\\partial a_1^2} \\end{array} \\right )       \n",
    "$$\n",
    "\n",
    "This is called the [Hessian matrix](https://en.wikipedia.org/wiki/Hessian_matrix).\n",
    "\n",
    "Let's write this function:"
   ]
  },
  {
   "cell_type": "code",
   "execution_count": 4,
   "id": "64724b0c-afaa-4180-9cb0-5584e57c7599",
   "metadata": {
    "tags": []
   },
   "outputs": [],
   "source": [
    "def jac(x, y, yerr, a):\n",
    "    \"\"\" compute the Jacobian of the function g\"\"\"\n",
    "\n",
    "    a0, a1 = a\n",
    "    \n",
    "    dg0da0 = -np.sum(np.exp(2.0 * a1 * x) / yerr**2)\n",
    "    dg0da1 = np.sum(x * np.exp(a1 * x) * (y - 2.0 * a0 * np.exp(a1 * x)) / yerr**2)\n",
    "    dg1da0 = dg0da1\n",
    "    dg1da1 = np.sum(a0 * x**2 * np.exp(a1 * x) * (y - 2.0 * a0 * np.exp(a1 * x)) / yerr**2)\n",
    "    \n",
    "    return np.array([[dg0da0, dg0da1],\n",
    "                     [dg1da0, dg1da1]])"
   ]
  },
  {
   "cell_type": "code",
   "execution_count": 5,
   "id": "8214583c-dbd3-46e8-b706-4de2af0359bf",
   "metadata": {
    "tags": []
   },
   "outputs": [],
   "source": [
    "def fit(aguess, x, y, yerr, tol=1.e-5):\n",
    "    \"\"\" aguess is the initial guess to our fit parameters.  x and y\n",
    "        are the vector of points that we are fitting to, and yerr are\n",
    "        the errors in y\"\"\"\n",
    "    \n",
    "    avec = aguess.copy()\n",
    "\n",
    "    err = 1.e100\n",
    "    while err > tol:\n",
    "\n",
    "        # get the jacobian\n",
    "        J = jac(x, y, yerr, avec)\n",
    "\n",
    "        print(\"condition number of J: \", np.linalg.cond(J))\n",
    "\n",
    "        # get the current function values\n",
    "        gv = g(x, y, yerr, avec)\n",
    "\n",
    "        # solve for the correction: J da = -g\n",
    "        da = np.linalg.solve(J, -gv)\n",
    "\n",
    "        avec += da\n",
    "        err = np.max(np.abs(da))\n",
    "\n",
    "    return avec"
   ]
  },
  {
   "cell_type": "code",
   "execution_count": 6,
   "id": "8d768ee5-7d63-44db-b10b-0cf49ba5ebc6",
   "metadata": {
    "tags": []
   },
   "outputs": [
    {
     "name": "stdout",
     "output_type": "stream",
     "text": [
      "condition number of J:  156.5720976555926\n",
      "condition number of J:  221.7228811361777\n",
      "condition number of J:  594.6880505792944\n",
      "condition number of J:  242.63924506609155\n",
      "condition number of J:  107.87492388200467\n",
      "condition number of J:  496.01996205306216\n",
      "condition number of J:  316.30437353469296\n",
      "condition number of J:  301.6808843901267\n",
      "condition number of J:  301.65752248397393\n"
     ]
    }
   ],
   "source": [
    "# initial guesses\n",
    "aguess = np.array([2.0, 1.0])\n",
    "\n",
    "# fit\n",
    "afit = fit(aguess, x, y, yerr)"
   ]
  },
  {
   "cell_type": "code",
   "execution_count": 7,
   "id": "ddc82ed1-3ad1-4f39-821e-b72375acd204",
   "metadata": {
    "tags": []
   },
   "outputs": [
    {
     "data": {
      "text/plain": [
       "array([2.54936487, 0.66359399])"
      ]
     },
     "execution_count": 7,
     "metadata": {},
     "output_type": "execute_result"
    }
   ],
   "source": [
    "afit"
   ]
  },
  {
   "cell_type": "code",
   "execution_count": 8,
   "id": "fd41392e-8a7d-4f21-bd16-cf724d3614fd",
   "metadata": {
    "tags": []
   },
   "outputs": [
    {
     "data": {
      "image/png": "[encoded data removed]",
      "text/plain": [
       "<Figure size 640x480 with 1 Axes>"
      ]
     },
     "execution_count": 8,
     "metadata": {},
     "output_type": "execute_result"
    }
   ],
   "source": [
    "ax.plot(x, afit[0] * np.exp(afit[1] *x))\n",
    "fig"
   ]
  },
  {
   "cell_type": "markdown",
   "id": "ea187969-adbb-4b08-8b8a-e03e96888569",
   "metadata": {},
   "source": [
    "## Is it a minimum?\n",
    "\n",
    "We just found an extrema.  Let's plot the surface around our fit parameters to see if it looks like a minimum"
   ]
  },
  {
   "cell_type": "code",
   "execution_count": 9,
   "id": "1579a5b6-2892-4bc2-b14e-da6613917885",
   "metadata": {
    "tags": []
   },
   "outputs": [],
   "source": [
    "npts = 100\n",
    "a0v = np.linspace(0.5 * afit[0], 2.0 * afit[0], npts)\n",
    "a1v = np.linspace(0.5 * afit[1], 2.0 * afit[1], npts)"
   ]
  },
  {
   "cell_type": "code",
   "execution_count": 10,
   "id": "d4ff246b-bfc8-4f27-b32d-4971c3af7d6f",
   "metadata": {
    "tags": []
   },
   "outputs": [],
   "source": [
    "def chisq(a0, a1, x, y, yerr):\n",
    "    return np.sum((y - a0 * np.exp(a1 * x))**2 / yerr**2)"
   ]
  },
  {
   "cell_type": "code",
   "execution_count": 11,
   "id": "ae16e151-4e00-451a-99e9-f287ca9c338c",
   "metadata": {
    "tags": []
   },
   "outputs": [],
   "source": [
    "c2 = np.zeros((npts, npts), dtype=np.float64)\n",
    "for i, a0 in enumerate(a0v):\n",
    "    for j, a1 in enumerate(a1v):\n",
    "        c2[i, j] = chisq(a0, a1, x, y, yerr)"
   ]
  },
  {
   "cell_type": "code",
   "execution_count": 12,
   "id": "cf93b31e-47ec-4097-9a56-15e66b056ec1",
   "metadata": {
    "tags": []
   },
   "outputs": [
    {
     "data": {
      "text/plain": [
       "2950712.7501934604"
      ]
     },
     "execution_count": 12,
     "metadata": {},
     "output_type": "execute_result"
    }
   ],
   "source": [
    "c2.max()"
   ]
  },
  {
   "cell_type": "code",
   "execution_count": 13,
   "id": "5a44bc0a-92ad-49c3-a66b-56608011cf58",
   "metadata": {
    "tags": []
   },
   "outputs": [
    {
     "data": {
      "text/plain": [
       "<matplotlib.collections.PathCollection at 0x7f33bb999a80>"
      ]
     },
     "execution_count": 13,
     "metadata": {},
     "output_type": "execute_result"
    },
    {
     "data": {
      "image/png": "[encoded data removed]",
      "text/plain": [
       "<Figure size 640x480 with 2 Axes>"
      ]
     },
     "metadata": {},
     "output_type": "display_data"
    }
   ],
   "source": [
    "fig, ax = plt.subplots()\n",
    "\n",
    "# we need to transpose to put a0 on the horizontal\n",
    "# we use origin = lower to have the origin at the lower left\n",
    "im = ax.imshow(np.log10(c2).T,\n",
    "               origin=\"lower\",\n",
    "               extent=[a0v[0], a0v[-1], a1v[0], a1v[-1]])\n",
    "fig.colorbar(im, ax=ax, orientation=\"horizontal\")\n",
    "ax.scatter([afit[0]], [afit[1]], color=\"r\", marker=\"x\")"
   ]
  },
  {
   "cell_type": "markdown",
   "id": "80535608-7758-46a0-8104-48ca90155b0c",
   "metadata": {
    "tags": []
   },
   "source": [
    "It looks like there is a very broad minimum there."
   ]
  },
  {
   "cell_type": "markdown",
   "id": "3fa2a551-8f7e-4c99-a7df-1cc4708a1c47",
   "metadata": {},
   "source": [
    "## Troubles\n",
    "\n",
    "Consider if we tried to add another parameter, fitting to:\n",
    "\n",
    "$$y = a_0 e^{a_1 x + a_2}$$\n",
    "\n",
    "here $a_2$ enters the same way as $a_0$, which would give a singular matrix, and make our solution unstable."
   ]
  }
 ],
 "metadata": {
  "kernelspec": {
   "display_name": "Python 3 (ipykernel)",
   "language": "python",
   "name": "python3"
  },
  "language_info": {
   "codemirror_mode": {
    "name": "ipython",
    "version": 3
   },
   "file_extension": ".py",
   "mimetype": "text/x-python",
   "name": "python",
   "nbconvert_exporter": "python",
   "pygments_lexer": "ipython3",
   "version": "3.10.9"
  }
 },
 "nbformat": 4,
 "nbformat_minor": 5
}
