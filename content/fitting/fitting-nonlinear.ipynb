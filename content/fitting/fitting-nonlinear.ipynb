{
 "cells": [
  {
   "cell_type": "markdown",
   "id": "a428f538-da3c-4a08-8912-30924aa99475",
   "metadata": {},
   "source": [
    "# Nonlinear Fitting\n",
    "\n",
    "What about the case of fitting to a function where the fit parameters enter in a nonlinear fashion?\n",
    "For example:\n",
    "\n",
    "$$f(x; a_0, a_1) = a_0 e^{a_1 x}$$\n",
    "\n",
    "One trick that is often used for something like this is to transform the data.  So instead of fitting the data $(x_i, y_i)$, you instead fit $(x_i, \\log y_i)$, and then our fitting function is:\n",
    "\n",
    "$$\\log f(x; a_0, a_1) = a_1 x + \\log a_0$$\n",
    "\n",
    "which is linear.\n",
    "\n",
    "However, when there are errors associated with the $y_i$, the errors do not necessarily transform the correct way when you take the logarithm.  \n",
    "\n",
    "So let's look at how we would fit directly to a nonlinear function."
   ]
  },
  {
   "cell_type": "code",
   "execution_count": null,
   "id": "14380e86-f6f2-40fe-8bd2-3c148edeba4e",
   "metadata": {},
   "outputs": [],
   "source": []
  }
 ],
 "metadata": {
  "kernelspec": {
   "display_name": "Python 3 (ipykernel)",
   "language": "python",
   "name": "python3"
  },
  "language_info": {
   "codemirror_mode": {
    "name": "ipython",
    "version": 3
   },
   "file_extension": ".py",
   "mimetype": "text/x-python",
   "name": "python",
   "nbconvert_exporter": "python",
   "pygments_lexer": "ipython3",
   "version": "3.10.9"
  }
 },
 "nbformat": 4,
 "nbformat_minor": 5
}
