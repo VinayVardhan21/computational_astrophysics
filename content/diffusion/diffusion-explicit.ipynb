{
 "cells": [
  {
   "cell_type": "markdown",
   "id": "db7157ba-a684-46d0-8759-2b7d8877eb20",
   "metadata": {},
   "source": [
    "# Explicit Discretization of Diffusion\n",
    "\n",
    "We'll start with our diffusion equation:\n",
    "\n",
    "$$\\phi_t = k \\phi_{xx}$$\n",
    "\n",
    "by replacing the time derivative with a forwardd-difference (first-order accurate)\n",
    "and the second derivative in space with a centered difference (second-order accurate):\n",
    "\n",
    "$$\\frac{\\phi_i^{n+1} - \\phi_i^n}{\\Delta t} = k \\frac{\\phi_{i+1}^n - 2 \\phi_i^n + \\phi_{i-1}^n}{\\Delta x^2}$$"
   ]
  },
  {
   "cell_type": "markdown",
   "id": "c46c293e-7ce2-4458-8e2b-25bb9eae73ae",
   "metadata": {},
   "source": [
    "## Stability\n",
    "\n",
    "This is reminiscent of the FTCS method we saw with advection, so we need to ask&mdash;is this discretization stable?\n",
    "\n",
    "As this equation is linear, we can do [von Neumann stability analysis](https://en.wikipedia.org/wiki/Von_Neumann_stability_analysis).  We look at a\n",
    "single Fourier mode:\n",
    "\n",
    "$$\\phi_i^n = A^n e^{ji\\theta}$$\n",
    "\n",
    "where we are using $j = \\sqrt{-1}$ for the imaginary unit.  Stability requires that:\n",
    "\n",
    "$$\\left | \\frac{A^{n+1}}{A^n} \\right | \\le 1$$\n",
    "\n",
    "When we work this out, we find that this discretization is stable as long as:\n",
    "\n",
    "$$\\Delta t \\le \\frac{1}{2} \\frac{\\Delta x^2}{k}$$\n",
    "\n",
    "Notice that the spatial dependence here is more severe than advection&mdash;we scale\n",
    "as $\\Delta x^2$."
   ]
  },
  {
   "cell_type": "markdown",
   "id": "db59aa99-38a7-4360-b0e5-0fac4b0c5b31",
   "metadata": {},
   "source": [
    "We'll use a cell-centered finite-difference / finite-volume grid."
   ]
  },
  {
   "cell_type": "markdown",
   "id": "90ce3c76-e9ac-4879-a643-ba651280f796",
   "metadata": {},
   "source": [
    "Here's the grid class"
   ]
  },
  {
   "cell_type": "code",
   "execution_count": 1,
   "id": "fd6cd8a8-1937-4470-aee3-44cdd51807a5",
   "metadata": {
    "tags": []
   },
   "outputs": [],
   "source": [
    "class CCFDGrid:\n",
    "    \"\"\" a simple class to hold cell-centered finite-difference data \"\"\"\n",
    "\n",
    "    def __init__(self, nx, ng, xmin=0.0, xmax=1.0):\n",
    "\n",
    "        self.xmin = xmin\n",
    "        self.xmax = xmax\n",
    "        self.ng = ng\n",
    "        self.nx = nx\n",
    "\n",
    "        # python is zero-based.  Make easy intergers to know where the\n",
    "        # real data lives\n",
    "        self.ilo = ng\n",
    "        self.ihi = ng+nx-1\n",
    "\n",
    "        # physical coords -- cell-centered\n",
    "        self.dx = (xmax - xmin)/(nx)\n",
    "        self.x = xmin + (np.arange(nx+2*ng)-ng+0.5)*self.dx\n",
    "\n",
    "        # storage for the solution\n",
    "        self.phi = np.zeros((nx+2*ng), dtype=np.float64)\n",
    "\n",
    "    def scratch_array(self):\n",
    "        \"\"\" return a scratch array dimensioned for our grid \"\"\"\n",
    "        return np.zeros((self.nx+2*self.ng), dtype=np.float64)\n",
    "\n",
    "    def fill_BCs(self):\n",
    "        \"\"\" fill the ghostcells with zero gradient (Neumann)\n",
    "            boundary conditions \"\"\"\n",
    "        self.phi[0:self.ilo] = self.phi[self.ilo]\n",
    "        self.phi[self.ihi+1:] = self.phi[self.ihi]\n",
    "\n",
    "    def norm(self, e):\n",
    "        \"\"\" return the norm of quantity e which lives on the grid \"\"\"\n",
    "        if not len(e) == (2*self.ng + self.nx):\n",
    "            return None\n",
    "\n",
    "        return np.sqrt(self.dx*np.sum(e[self.ilo:self.ihi+1]**2))"
   ]
  },
  {
   "cell_type": "code",
   "execution_count": 2,
   "id": "1a2dd460-a6da-41f8-99cb-ea5e442f3fc2",
   "metadata": {
    "tags": []
   },
   "outputs": [],
   "source": [
    "def diffuse_explicit(nx, k, C, tmax, init_cond):\n",
    "    \n",
    "    \"\"\" evolve the system with diffusion coeff k and CFL number C \"\"\"\n",
    "\n",
    "    ng = 1\n",
    "\n",
    "    # create the grid\n",
    "    g = CCFDGrid(nx, ng)\n",
    "\n",
    "    # time info\n",
    "    dt = C * 0.5 * g.dx**2 / k\n",
    "    t = 0.0\n",
    "\n",
    "    # initialize the data\n",
    "    g.phi[:] = init_cond(g, k)\n",
    "\n",
    "    # evolution loop\n",
    "    phinew = g.scratch_array()\n",
    "\n",
    "    while t < tmax:\n",
    "\n",
    "        # make sure we end right at tmax\n",
    "        if t + dt > tmax:\n",
    "            dt = tmax - t\n",
    "\n",
    "        # fill the boundary conditions\n",
    "        g.fill_BCs()\n",
    "\n",
    "        alpha = k * dt / g.dx**2\n",
    "\n",
    "        # loop over zones\n",
    "        for i in range(g.ilo, g.ihi+1):\n",
    "\n",
    "            # explicit diffusion\n",
    "            phinew[i] = g.phi[i] + alpha * (g.phi[i+1] - 2.0*g.phi[i] + g.phi[i-1])\n",
    "\n",
    "        # store the updated solution\n",
    "        g.phi[:] = phinew[:]\n",
    "        t += dt\n",
    "\n",
    "    return g"
   ]
  },
  {
   "cell_type": "code",
   "execution_count": 3,
   "id": "fd831f01-b2d3-42a8-ac1f-682c01e351c3",
   "metadata": {
    "tags": []
   },
   "outputs": [],
   "source": [
    "def gaussian_ic(g, k, t=0.0, t0=1.e-4, phi1=1.0, phi2=2.0):\n",
    "    xc = 0.5*(g.xmin + g.xmax)\n",
    "    return (phi2 - phi1) * (np.sqrt(t0/(t + t0)) *\n",
    "                            np.exp(-0.25 * (g.x - xc)**2 / (k * (t + t0)))) + phi1"
   ]
  },
  {
   "cell_type": "code",
   "execution_count": null,
   "id": "5d9342d4-87b9-40b1-a15a-4e96ea11751c",
   "metadata": {},
   "outputs": [],
   "source": []
  }
 ],
 "metadata": {
  "kernelspec": {
   "display_name": "Python 3 (ipykernel)",
   "language": "python",
   "name": "python3"
  },
  "language_info": {
   "codemirror_mode": {
    "name": "ipython",
    "version": 3
   },
   "file_extension": ".py",
   "mimetype": "text/x-python",
   "name": "python",
   "nbconvert_exporter": "python",
   "pygments_lexer": "ipython3",
   "version": "3.10.9"
  }
 },
 "nbformat": 4,
 "nbformat_minor": 5
}
