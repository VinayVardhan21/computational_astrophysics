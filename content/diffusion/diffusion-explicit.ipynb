{
 "cells": [
  {
   "cell_type": "markdown",
   "id": "db7157ba-a684-46d0-8759-2b7d8877eb20",
   "metadata": {},
   "source": [
    "# Explicit Discretization of Diffusion\n",
    "\n",
    "We'll start with our diffusion equation:\n",
    "\n",
    "$$\\phi_t = k \\phi_{xx}$$\n",
    "\n",
    "by replacing the time derivative with a forwardd-difference (first-order accurate)\n",
    "and the second derivative in space with a centered difference (second-order accurate):\n",
    "\n",
    "$$\\frac{\\phi_i^{n+1} - \\phi_i^n}{\\Delta t} = k \\frac{\\phi_{i+1}^n - 2 \\phi_i^n + \\phi_{i-1}^n}{\\Delta x^2}$$"
   ]
  },
  {
   "cell_type": "markdown",
   "id": "c46c293e-7ce2-4458-8e2b-25bb9eae73ae",
   "metadata": {},
   "source": [
    "## Stability\n",
    "\n",
    "This is reminiscent of the FTCS method we saw with advection, so we need to ask&mdash;is this discretization stable?\n",
    "\n",
    "As this equation is linear, we can do [von Neumann stability analysis](https://en.wikipedia.org/wiki/Von_Neumann_stability_analysis).  We look at a\n",
    "single Fourier mode:\n",
    "\n",
    "$$\\phi_i^n = A^n e^{ji\\theta}$$\n",
    "\n",
    "where we are using $j = \\sqrt{-1}$ for the imaginary unit.  Stability requires that:\n",
    "\n",
    "$$\\left | \\frac{A^{n+1}}{A^n} \\right | \\le 1$$\n",
    "\n",
    "When we work this out, we find that this discretization is stable as long as:\n",
    "\n",
    "$$\\Delta t \\le \\frac{1}{2} \\frac{\\Delta x^2}{k}$$\n",
    "\n",
    "Notice that the spatial dependence here is more severe than advection&mdash;we scale\n",
    "as $\\Delta x^2$."
   ]
  },
  {
   "cell_type": "markdown",
   "id": "db59aa99-38a7-4360-b0e5-0fac4b0c5b31",
   "metadata": {},
   "source": [
    "We'll use a cell-centered finite-difference / finite-volume grid."
   ]
  },
  {
   "cell_type": "markdown",
   "id": "90ce3c76-e9ac-4879-a643-ba651280f796",
   "metadata": {},
   "source": [
    "Here's the grid class.  It implements Neumann boundary conditions by simply setting the ghost cell values to the value just inside the domain."
   ]
  },
  {
   "cell_type": "code",
   "execution_count": 1,
   "id": "0135a562-917b-45e0-98b2-43bece1b17d6",
   "metadata": {
    "tags": []
   },
   "outputs": [],
   "source": [
    "import numpy as np\n",
    "import matplotlib.pyplot as plt"
   ]
  },
  {
   "cell_type": "code",
   "execution_count": 16,
   "id": "fd6cd8a8-1937-4470-aee3-44cdd51807a5",
   "metadata": {
    "tags": []
   },
   "outputs": [],
   "source": [
    "class Grid:\n",
    "    \"\"\" a simple class to hold cell-centered finite-difference  /\n",
    "    finite-volume data \"\"\"\n",
    "\n",
    "    def __init__(self, nx, ng, xmin=0.0, xmax=1.0):\n",
    "\n",
    "        self.xmin = xmin\n",
    "        self.xmax = xmax\n",
    "        self.ng = ng\n",
    "        self.nx = nx\n",
    "\n",
    "        # python is zero-based.  Make easy intergers to know where the\n",
    "        # real data lives\n",
    "        self.ilo = ng\n",
    "        self.ihi = ng+nx-1\n",
    "\n",
    "        # physical coords -- cell-centered\n",
    "        self.dx = (xmax - xmin)/(nx)\n",
    "        self.x = xmin + (np.arange(nx+2*ng)-ng+0.5)*self.dx\n",
    "\n",
    "        # storage for the solution\n",
    "        self.phi = np.zeros((nx+2*ng), dtype=np.float64)\n",
    "\n",
    "    def scratch_array(self):\n",
    "        \"\"\" return a scratch array dimensioned for our grid \"\"\"\n",
    "        return np.zeros((self.nx+2*self.ng), dtype=np.float64)\n",
    "\n",
    "    def fill_BCs(self):\n",
    "        \"\"\" fill the ghostcells with zero gradient (Neumann)\n",
    "            boundary conditions \"\"\"\n",
    "        self.phi[0:self.ilo] = self.phi[self.ilo]\n",
    "        self.phi[self.ihi+1:] = self.phi[self.ihi]\n",
    "\n",
    "    def norm(self, e):\n",
    "        \"\"\" return the norm of quantity e which lives on the grid \"\"\"\n",
    "        if not len(e) == (2*self.ng + self.nx):\n",
    "            return None\n",
    "\n",
    "        return np.sqrt(self.dx*np.sum(e[self.ilo:self.ihi+1]**2))"
   ]
  },
  {
   "cell_type": "markdown",
   "id": "d35752c7-814a-4393-9792-e521b89e8ee3",
   "metadata": {},
   "source": [
    "Here's the integration routine.  We require a function to be passed in with the initial conditions\n",
    "of the form:\n",
    "\n",
    "```\n",
    "init_cond(grid, k)\n",
    "```\n",
    "\n",
    "where `grid` is the `Grid` object and `k` is the thermal diffusivity.\n",
    "\n",
    "We'll take a timestep based on the stability criteron:\n",
    "\n",
    "$$\\Delta t = \\frac{C}{2} \\frac{\\Delta x^2}{k}$$\n",
    "\n",
    "where $C < 1$ is a _safety factor_ that ensures that we remain stable."
   ]
  },
  {
   "cell_type": "code",
   "execution_count": 17,
   "id": "1a2dd460-a6da-41f8-99cb-ea5e442f3fc2",
   "metadata": {
    "tags": []
   },
   "outputs": [],
   "source": [
    "def diffuse_explicit(nx, k, C, tmax, init_cond):\n",
    "    \"\"\" evolve the system with diffusion coeff k and CFL number C \"\"\"\n",
    "\n",
    "    ng = 1\n",
    "\n",
    "    # create the grid\n",
    "    g = Grid(nx, ng)\n",
    "\n",
    "    # time info\n",
    "    dt = C * 0.5 * g.dx**2 / k\n",
    "    t = 0.0\n",
    "\n",
    "    # initialize the data\n",
    "    g.phi[:] = init_cond(g, k)\n",
    "\n",
    "    # evolution loop\n",
    "    phinew = g.scratch_array()\n",
    "\n",
    "    while t < tmax:\n",
    "\n",
    "        # make sure we end right at tmax\n",
    "        if t + dt > tmax:\n",
    "            dt = tmax - t\n",
    "\n",
    "        # fill the boundary conditions\n",
    "        g.fill_BCs()\n",
    "\n",
    "        alpha = k * dt / g.dx**2\n",
    "\n",
    "        # loop over zones\n",
    "        for i in range(g.ilo, g.ihi+1):\n",
    "\n",
    "            # explicit diffusion\n",
    "            phinew[i] = g.phi[i] + alpha * (g.phi[i+1] - 2.0*g.phi[i] + g.phi[i-1])\n",
    "\n",
    "        # store the updated solution\n",
    "        g.phi[:] = phinew[:]\n",
    "        t += dt\n",
    "\n",
    "    return g"
   ]
  },
  {
   "cell_type": "markdown",
   "id": "3a05b19b-7e6b-49a1-a7e2-5888036216be",
   "metadata": {},
   "source": [
    "Here are our initial conditions&mdash;the Gaussian profile."
   ]
  },
  {
   "cell_type": "code",
   "execution_count": 18,
   "id": "fd831f01-b2d3-42a8-ac1f-682c01e351c3",
   "metadata": {
    "tags": []
   },
   "outputs": [],
   "source": [
    "def gaussian_ic(g, k, t=0.0, t0=1.e-4, phi1=1.0, phi2=2.0):\n",
    "    xc = 0.5*(g.xmin + g.xmax)\n",
    "    return (phi2 - phi1) * (np.sqrt(t0/(t + t0)) *\n",
    "                            np.exp(-0.25 * (g.x - xc)**2 / (k * (t + t0)))) + phi1"
   ]
  },
  {
   "cell_type": "markdown",
   "id": "1534d167-6472-4911-958d-a07193237b6f",
   "metadata": {},
   "source": [
    "We'll pick a maximum time in terms of the diffusion timescale,\n",
    "\n",
    "$$\\tau_\\mathrm{diffuse} \\sim \\frac{\\lambda^2}{k}$$\n",
    "\n",
    "where $\\lambda$ is the characteristic size we are diffusing over.  We'll\n",
    "pick it as $\\lambda \\sim \\Delta x$ since we start out very strongly peaked."
   ]
  },
  {
   "cell_type": "code",
   "execution_count": 28,
   "id": "da9061d5-1bdf-4da6-be30-e25447adccc6",
   "metadata": {},
   "outputs": [],
   "source": [
    "nx = 64\n",
    "C = 0.5\n",
    "\n",
    "k = 1\n",
    "\n",
    "t_char = (1.0/nx)**2 / k"
   ]
  },
  {
   "cell_type": "markdown",
   "id": "9dd4c68f-54a7-4c3e-b574-7f29826a6a9e",
   "metadata": {},
   "source": [
    "We'll run for a few different multiples of the characteristic time and\n",
    "plot the evolution"
   ]
  },
  {
   "cell_type": "code",
   "execution_count": 35,
   "id": "e1707143-2a61-4faf-8444-63805af48e9a",
   "metadata": {
    "tags": []
   },
   "outputs": [
    {
     "data": {
      "text/plain": [
       "<matplotlib.legend.Legend at 0x7fab3bd1e2f0>"
      ]
     },
     "execution_count": 35,
     "metadata": {},
     "output_type": "execute_result"
    },
    {
     "data": {
      "image/png": "[encoded data removed]",
      "text/plain": [
       "<Figure size 640x480 with 1 Axes>"
      ]
     },
     "metadata": {},
     "output_type": "display_data"
    }
   ],
   "source": [
    "fig, ax = plt.subplots()\n",
    "\n",
    "for n in [1, 2, 4, 8]:\n",
    "    g = diffuse_explicit(nx, k, C, n * tmax, gaussian_ic)\n",
    "    ax.plot(g.x[g.ilo:g.ihi+1], g.phi[g.ilo:g.ihi+1], label=f\"t = {n * tmax:7.5f}\")\n",
    "\n",
    "ax.legend()"
   ]
  },
  {
   "cell_type": "code",
   "execution_count": 24,
   "id": "58ff8953-9e0d-42bb-a671-d8aca6f532b3",
   "metadata": {
    "tags": []
   },
   "outputs": [
    {
     "data": {
      "text/plain": [
       "1.0"
      ]
     },
     "execution_count": 24,
     "metadata": {},
     "output_type": "execute_result"
    }
   ],
   "source": [
    "tmax"
   ]
  },
  {
   "cell_type": "code",
   "execution_count": null,
   "id": "c1ac44bd-fd03-4559-8479-35ca3a32a935",
   "metadata": {},
   "outputs": [],
   "source": []
  }
 ],
 "metadata": {
  "kernelspec": {
   "display_name": "Python 3 (ipykernel)",
   "language": "python",
   "name": "python3"
  },
  "language_info": {
   "codemirror_mode": {
    "name": "ipython",
    "version": 3
   },
   "file_extension": ".py",
   "mimetype": "text/x-python",
   "name": "python",
   "nbconvert_exporter": "python",
   "pygments_lexer": "ipython3",
   "version": "3.10.10"
  }
 },
 "nbformat": 4,
 "nbformat_minor": 5
}
