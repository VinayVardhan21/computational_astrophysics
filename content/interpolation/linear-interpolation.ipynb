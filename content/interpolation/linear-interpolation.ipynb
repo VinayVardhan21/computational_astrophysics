{
 "cells": [
  {
   "cell_type": "markdown",
   "id": "8db7c2a1-0458-4e15-b933-f580ce14d16d",
   "metadata": {
    "tags": []
   },
   "source": [
    "# Linear Interpolation"
   ]
  },
  {
   "cell_type": "markdown",
   "id": "c40e1aea-69dc-43ee-96dc-49b8b341a3cf",
   "metadata": {},
   "source": [
    "The simplest interpolation we can imagine is doing _connect-the-dots_, and simply\n",
    "connecting our data samples with straight lines.\n",
    "\n",
    "![example of linear interpolation](linear-interpolation.png)\n",
    "\n",
    "As we see, this only gets the correct values at the end points (for a general function), but it has the nice property that it does not introduce any new minima or maxima."
   ]
  },
  {
   "cell_type": "markdown",
   "id": "845190cf-9dd8-482c-860d-65f3b549e06d",
   "metadata": {},
   "source": [
    "Given some N points sampling a function, $(x_i, f_i)$, the interpolant connecting the points $i$ and $i+1$ is:\n",
    "\n",
    "$$f(x) = \\frac{f_{i+1} - f_i}{x_{i+1} - x_i} (x - x_i) + f_i$$\n",
    "\n",
    "for $x_i \\le x \\le x_{i+1}$\n",
    "\n",
    "For N points, we have $N-1$ interpolants."
   ]
  },
  {
   "cell_type": "markdown",
   "id": "f66f8c88-f754-4c9a-867c-8851b532875a",
   "metadata": {},
   "source": [
    "## Piecewise interpolation\n",
    "\n",
    "This is an example of _piecewise interpolation_.  We don't try to fit all of the\n",
    "points with a single polynomial, but instead fit a subset of points with a low-order\n",
    "polynomial (in this case, a line)."
   ]
  },
  {
   "cell_type": "markdown",
   "id": "b5fd2525-5ddc-453a-a5c8-274adde35efe",
   "metadata": {
    "tags": []
   },
   "source": [
    "<div class=\"alert alert-block alert-info\">\n",
    "<b>In-class example:</b>\n",
    "\n",
    "Let's write a function to tabulate $f(x) = x sin(x)$ on $[0, 5]$ and then use linear interpolation to get the function values.\n",
    "    \n",
    "How many function samples do we need to get a 1% error?\n",
    "</div>"
   ]
  },
  {
   "cell_type": "code",
   "execution_count": null,
   "id": "6c98f4b2-323a-43d7-8dcd-67a5e3a4d97c",
   "metadata": {},
   "outputs": [],
   "source": []
  }
 ],
 "metadata": {
  "kernelspec": {
   "display_name": "Python 3 (ipykernel)",
   "language": "python",
   "name": "python3"
  },
  "language_info": {
   "codemirror_mode": {
    "name": "ipython",
    "version": 3
   },
   "file_extension": ".py",
   "mimetype": "text/x-python",
   "name": "python",
   "nbconvert_exporter": "python",
   "pygments_lexer": "ipython3",
   "version": "3.11.2"
  }
 },
 "nbformat": 4,
 "nbformat_minor": 5
}
