{
 "cells": [
  {
   "cell_type": "code",
   "execution_count": 2,
   "id": "b7f6667e-3c47-435c-ab10-a1d1b36ae347",
   "metadata": {
    "tags": []
   },
   "outputs": [],
   "source": [
    "import numpy as np\n",
    "import random"
   ]
  },
  {
   "cell_type": "code",
   "execution_count": 104,
   "id": "10203cf6-e574-470f-8367-f94638cad734",
   "metadata": {
    "tags": []
   },
   "outputs": [],
   "source": [
    "class ModelData:\n",
    "    \"\"\"this is the model data for our \"last number\" training set.  We\n",
    "    produce input of length N, drawing from the NUM_SET randomly and\n",
    "    then we set the output to be simply the last element of the input\n",
    "    vector\n",
    "\n",
    "    \"\"\"\n",
    "    def __init__(self, N=10):\n",
    "        self.N = N\n",
    "\n",
    "        # our model input data\n",
    "        self.x = np.random.randint(0, high=10, size=N)\n",
    "        \n",
    "        # our scaled model output data\n",
    "        self.y = np.array([self.x[-1]])\n",
    "\n",
    "    def interpret_result(self, out):\n",
    "        \"\"\"take the network output and return the number from the allowed\n",
    "        sequence we are closest to\n",
    "\n",
    "        \"\"\"\n",
    "        return max(0, min(9, int(np.round(out, decimals=0))))"
   ]
  },
  {
   "cell_type": "code",
   "execution_count": null,
   "id": "6b911206-0ccd-40a6-b4d3-c801fb3dda28",
   "metadata": {
    "tags": []
   },
   "outputs": [],
   "source": []
  },
  {
   "cell_type": "code",
   "execution_count": 177,
   "id": "d8437e0c-28e8-4ab2-a0ac-98a2cbcb5a76",
   "metadata": {
    "tags": []
   },
   "outputs": [],
   "source": [
    "class NeuralNetwork:\n",
    "\n",
    "    def __init__(self, num_training_unique=100, eta=0.2, data_class=None):\n",
    "        \n",
    "        self.num_training_unique = num_training_unique\n",
    "        self.eta = eta\n",
    "\n",
    "        self.train_set = []\n",
    "        for _ in range(self.num_training_unique):\n",
    "            self.train_set.append(data_class())\n",
    "\n",
    "        # initialize our matrix with Gaussian normal random numbers\n",
    "        # we get the size from the length of the input and output\n",
    "        model = self.train_set[0]\n",
    "        self.N_out = len(model.y)\n",
    "        self.N_in = len(model.x)\n",
    "\n",
    "        self.A = np.random.normal(0.0, 1.0/np.sqrt(self.N_in * self.N_out), (self.N_out, self.N_in))\n",
    "\n",
    "    def g(self, xi):\n",
    "        \"\"\"our sigmoid function\"\"\"\n",
    "        return 1.0/(1.0 + np.exp(-xi))\n",
    "\n",
    "    def train(self, n_epochs=10):\n",
    "        \"\"\"Do the minimization for the training\"\"\"\n",
    "\n",
    "        # train\n",
    "        for _ in range(n_epochs * len(self.train_set)):\n",
    "            model = random.choice(self.train_set)\n",
    "\n",
    "            # gradient descent -- just a single improvement.  eta\n",
    "            # here is our learning rate\n",
    "\n",
    "            # make these column vectors\n",
    "            x = model.x.reshape(self.N_in, 1)\n",
    "            y = model.y.reshape(self.N_out, 1)\n",
    "\n",
    "            b = self.A @ x\n",
    "            z = self.g(b)\n",
    "\n",
    "            self.A[:,:] += -self.eta * 2 * (z - y) * z * (1 - z) @ x.T\n",
    "\n",
    "    def predict(self, model):\n",
    "        \"\"\" predict the outcome using our trained matrix A \"\"\"\n",
    "        z = self.g(self.A @ model.x)\n",
    "        return model.interpret_result(z)"
   ]
  },
  {
   "cell_type": "code",
   "execution_count": 178,
   "id": "2fd494f4-c09a-42c8-820c-30dce15b6e2b",
   "metadata": {
    "tags": []
   },
   "outputs": [],
   "source": [
    "nn = NeuralNetwork(num_training_unique=100, data_class=ModelData)\n",
    "nn.train(n_epochs=100)"
   ]
  },
  {
   "cell_type": "code",
   "execution_count": 179,
   "id": "ebfb3502-c95d-4ae7-9829-80c35d284622",
   "metadata": {
    "tags": []
   },
   "outputs": [
    {
     "name": "stdout",
     "output_type": "stream",
     "text": [
      "[[ 0.33768883  0.61156985  0.0997347   1.90597873  1.36356267 -0.01097751\n",
      "   0.67079972  0.92404173  0.69467818  0.75549632]]\n"
     ]
    }
   ],
   "source": [
    "print(nn.A)"
   ]
  },
  {
   "cell_type": "code",
   "execution_count": 180,
   "id": "dbb21b5d-c6a8-484a-9aa6-cdd39db122bb",
   "metadata": {
    "tags": []
   },
   "outputs": [
    {
     "name": "stdout",
     "output_type": "stream",
     "text": [
      "fraction correct: 0.1\n"
     ]
    }
   ],
   "source": [
    "err = []\n",
    "npts = 100\n",
    "n_right = 0\n",
    "for k in range(npts):\n",
    "    model = ModelData()\n",
    "    y_nn = nn.predict(model)\n",
    "    e = float(y_nn - model.x[-1])\n",
    "    if e == 0:\n",
    "        n_right += 1\n",
    "    err.append(e)\n",
    "    \n",
    "print(f\"fraction correct: {n_right / npts}\")"
   ]
  },
  {
   "cell_type": "markdown",
   "id": "d4902675-46a0-41c2-b52a-2037b9ebe633",
   "metadata": {},
   "source": [
    "Clearly we are not doing that great.  Let's look at a single attempt"
   ]
  },
  {
   "cell_type": "code",
   "execution_count": 181,
   "id": "2ac3bb5a-7015-4cab-9d50-587c256e6c31",
   "metadata": {
    "tags": []
   },
   "outputs": [],
   "source": [
    "model = ModelData()"
   ]
  },
  {
   "cell_type": "code",
   "execution_count": 182,
   "id": "69abcbd2-3944-4ca9-9732-73349241981d",
   "metadata": {
    "tags": []
   },
   "outputs": [
    {
     "data": {
      "text/plain": [
       "array([9, 2, 4, 3, 0, 2, 1, 0, 5, 1])"
      ]
     },
     "execution_count": 182,
     "metadata": {},
     "output_type": "execute_result"
    }
   ],
   "source": [
    "model.x"
   ]
  },
  {
   "cell_type": "code",
   "execution_count": 183,
   "id": "a6c4b984-5a4a-45ac-835c-eda0fa692b61",
   "metadata": {
    "tags": []
   },
   "outputs": [
    {
     "data": {
      "text/plain": [
       "array([1])"
      ]
     },
     "execution_count": 183,
     "metadata": {},
     "output_type": "execute_result"
    }
   ],
   "source": [
    "model.y"
   ]
  },
  {
   "cell_type": "code",
   "execution_count": 184,
   "id": "f36ba7ef-ae4d-426d-b326-9c4ba059789d",
   "metadata": {
    "tags": []
   },
   "outputs": [
    {
     "data": {
      "text/plain": [
       "1"
      ]
     },
     "execution_count": 184,
     "metadata": {},
     "output_type": "execute_result"
    }
   ],
   "source": [
    "nn.predict(model)"
   ]
  },
  {
   "cell_type": "code",
   "execution_count": 185,
   "id": "0d673486-0655-4ed3-a43b-6cccb84475cd",
   "metadata": {
    "tags": []
   },
   "outputs": [
    {
     "data": {
      "text/plain": [
       "array([15.25694615])"
      ]
     },
     "execution_count": 185,
     "metadata": {},
     "output_type": "execute_result"
    }
   ],
   "source": [
    "nn.A @ model.x"
   ]
  },
  {
   "cell_type": "markdown",
   "id": "1b886295-0eba-4d49-887e-98d60609256f",
   "metadata": {},
   "source": [
    "# Scaled Data\n",
    "Let's try again, but this time, let's scale the output that we train to by 10 so it falls within $[0, 1]$."
   ]
  },
  {
   "cell_type": "code",
   "execution_count": 186,
   "id": "4feef11f-d48a-47f4-9c7b-ce538236a3df",
   "metadata": {
    "tags": []
   },
   "outputs": [],
   "source": [
    "class ModelDataScaled:\n",
    "    \"\"\"this is the model data for our \"last number\" training set.  We\n",
    "    produce input of length N, drawing from the NUM_SET randomly and\n",
    "    then we set the output to be simply the last element of the input\n",
    "    vector\n",
    "\n",
    "    \"\"\"\n",
    "    def __init__(self, N=10):\n",
    "        self.N = N\n",
    "        self.offset = 0.05\n",
    "        \n",
    "        # our model input data\n",
    "        self.x = np.random.randint(0, high=10, size=N) / 10 + self.offset\n",
    "\n",
    "        # our scaled model output data\n",
    "        self.y = np.array([self.x[-1]])\n",
    "\n",
    "    def interpret_result(self, out):\n",
    "        \"\"\"take the network output and return the number from the allowed\n",
    "        sequence we are closest to\n",
    "\n",
    "        \"\"\"\n",
    "        return np.round(out / self.offset) * self.offset"
   ]
  },
  {
   "cell_type": "code",
   "execution_count": 187,
   "id": "75cffacb-1ed9-4c70-a385-02e215adffdf",
   "metadata": {
    "tags": []
   },
   "outputs": [],
   "source": [
    "nn = NeuralNetwork(num_training_unique=100, data_class=ModelDataScaled)\n",
    "nn.train(n_epochs=100)"
   ]
  },
  {
   "cell_type": "code",
   "execution_count": 188,
   "id": "8f4b3c76-82dc-43e9-a40b-b25e85bb09ce",
   "metadata": {
    "tags": []
   },
   "outputs": [
    {
     "data": {
      "text/plain": [
       "array([[-0.50666556, -0.42220143, -0.82062978, -0.54440861, -0.626418  ,\n",
       "        -0.78876666, -0.14953013, -0.45645145, -0.19193429,  4.65100156]])"
      ]
     },
     "execution_count": 188,
     "metadata": {},
     "output_type": "execute_result"
    }
   ],
   "source": [
    "nn.A"
   ]
  },
  {
   "cell_type": "code",
   "execution_count": 189,
   "id": "c22f027c-7761-4d47-a0a8-263839bf6750",
   "metadata": {
    "tags": []
   },
   "outputs": [
    {
     "name": "stdout",
     "output_type": "stream",
     "text": [
      "fraction correct: 0.16\n"
     ]
    }
   ],
   "source": [
    "err = []\n",
    "npts = 100\n",
    "n_right = 0\n",
    "for k in range(npts):\n",
    "    model = ModelDataScaled()\n",
    "    y_nn = nn.predict(model)\n",
    "    e = float(y_nn - model.y)\n",
    "    if e == 0:\n",
    "        n_right += 1\n",
    "    err.append(e)\n",
    "    \n",
    "print(f\"fraction correct: {n_right / npts}\")"
   ]
  },
  {
   "cell_type": "code",
   "execution_count": 190,
   "id": "df52dc18-bb23-4a6c-b340-33c228816b88",
   "metadata": {
    "tags": []
   },
   "outputs": [],
   "source": [
    "model = ModelDataScaled()"
   ]
  },
  {
   "cell_type": "code",
   "execution_count": 191,
   "id": "505b6a48-1ca0-45f2-956b-ab5fd19a8d84",
   "metadata": {
    "tags": []
   },
   "outputs": [],
   "source": [
    "p = nn.g(nn.A @ model.x)"
   ]
  },
  {
   "cell_type": "code",
   "execution_count": 192,
   "id": "45e9d034-389e-453c-84ac-b355394f272d",
   "metadata": {
    "tags": []
   },
   "outputs": [
    {
     "data": {
      "text/plain": [
       "array([0.75])"
      ]
     },
     "execution_count": 192,
     "metadata": {},
     "output_type": "execute_result"
    }
   ],
   "source": [
    "np.round(p / 0.05) * 0.05"
   ]
  },
  {
   "cell_type": "code",
   "execution_count": 193,
   "id": "0a9569a7-db58-4e49-8b41-5eabe30bbffd",
   "metadata": {
    "tags": []
   },
   "outputs": [
    {
     "data": {
      "text/plain": [
       "array([0.95])"
      ]
     },
     "execution_count": 193,
     "metadata": {},
     "output_type": "execute_result"
    }
   ],
   "source": [
    "model.y"
   ]
  },
  {
   "cell_type": "markdown",
   "id": "443cc99b-42f3-4031-b4c2-b8a9f9212fdf",
   "metadata": {},
   "source": [
    "## Categorical "
   ]
  },
  {
   "cell_type": "code",
   "execution_count": 194,
   "id": "069c5af4-e079-45b9-ace1-3ee77cff59a1",
   "metadata": {
    "tags": []
   },
   "outputs": [],
   "source": [
    "class ModelDataCategorical:\n",
    "    \"\"\"this is the model data for our \"last number\" training set.  We\n",
    "    produce input of length N, drawing from the NUM_SET randomly and\n",
    "    then we set the output to be simply the last element of the input\n",
    "    vector\n",
    "\n",
    "    \"\"\"\n",
    "    def __init__(self, N=10):\n",
    "        self.N = N\n",
    "        \n",
    "        # our model input data\n",
    "        self.x = np.random.randint(0, high=10, size=N)\n",
    "\n",
    "        # our scaled model output data\n",
    "        self.y = np.zeros(10) + 0.01\n",
    "        self.y[self.x[-1]] = 0.99\n",
    "\n",
    "    def interpret_result(self, out):\n",
    "        \"\"\"take the network output and return the number we predict\"\"\"\n",
    "        return np.argmax(out)"
   ]
  },
  {
   "cell_type": "code",
   "execution_count": 195,
   "id": "8a40dc9c-3f4f-4a24-b724-e96c803bb4f1",
   "metadata": {
    "tags": []
   },
   "outputs": [],
   "source": [
    "nn = NeuralNetwork(num_training_unique=100, data_class=ModelDataCategorical)\n",
    "nn.train(n_epochs=100)"
   ]
  },
  {
   "cell_type": "code",
   "execution_count": null,
   "id": "48967456-3db5-454d-af3c-9153f20ce85e",
   "metadata": {
    "tags": []
   },
   "outputs": [],
   "source": []
  },
  {
   "cell_type": "code",
   "execution_count": 199,
   "id": "34d9d57d-d5ed-4cd4-9360-e554cbfcb763",
   "metadata": {
    "tags": []
   },
   "outputs": [
    {
     "name": "stdout",
     "output_type": "stream",
     "text": [
      "fraction correct: 0.1\n"
     ]
    }
   ],
   "source": [
    "err = []\n",
    "npts = 100\n",
    "n_right = 0\n",
    "for k in range(npts):\n",
    "    model = ModelDataCategorical()\n",
    "    y_nn = nn.predict(model)\n",
    "    e = float(y_nn - np.argmax(model.y))\n",
    "    if e == 0:\n",
    "        n_right += 1\n",
    "    err.append(e)\n",
    "    \n",
    "print(f\"fraction correct: {n_right / npts}\")"
   ]
  },
  {
   "cell_type": "code",
   "execution_count": 139,
   "id": "d1ab5463-7611-4cdc-bff5-950720f8ef67",
   "metadata": {
    "tags": []
   },
   "outputs": [],
   "source": [
    "model = ModelDataCategorical()"
   ]
  },
  {
   "cell_type": "code",
   "execution_count": 140,
   "id": "58761f39-2f2e-425d-aef5-19489f033be9",
   "metadata": {
    "tags": []
   },
   "outputs": [
    {
     "data": {
      "text/plain": [
       "array([2, 0, 2, 6, 3, 8, 5, 3, 3, 7])"
      ]
     },
     "execution_count": 140,
     "metadata": {},
     "output_type": "execute_result"
    }
   ],
   "source": [
    "model.x"
   ]
  },
  {
   "cell_type": "code",
   "execution_count": 141,
   "id": "81e0e5e0-f202-42e2-beba-baac1145dc60",
   "metadata": {
    "tags": []
   },
   "outputs": [
    {
     "data": {
      "text/plain": [
       "array([0.01, 0.01, 0.01, 0.01, 0.01, 0.01, 0.01, 0.99, 0.01, 0.01])"
      ]
     },
     "execution_count": 141,
     "metadata": {},
     "output_type": "execute_result"
    }
   ],
   "source": [
    "model.y"
   ]
  },
  {
   "cell_type": "code",
   "execution_count": 142,
   "id": "7dcc16ad-f3c3-46b2-a8b6-21b3042a57c9",
   "metadata": {
    "tags": []
   },
   "outputs": [
    {
     "data": {
      "text/plain": [
       "array([8.82774251e-32, 3.93339100e-28, 1.36722111e-21, 7.80687234e-03,\n",
       "       2.36845144e-09, 3.08940647e-08, 2.19174955e-09, 4.53080714e-25,\n",
       "       6.80767078e-08, 1.82519567e-09])"
      ]
     },
     "execution_count": 142,
     "metadata": {},
     "output_type": "execute_result"
    }
   ],
   "source": [
    "nn.g(nn.A @ model.x)"
   ]
  },
  {
   "cell_type": "code",
   "execution_count": 143,
   "id": "b6c2be9f-c20f-474f-b206-76dde443dcd0",
   "metadata": {
    "tags": []
   },
   "outputs": [
    {
     "name": "stdout",
     "output_type": "stream",
     "text": [
      "[2.0, -3.0, -2.0, -1.0, 0.0, -1.0, 5.0, -1.0, -1.0, 0.0, 2.0, -3.0, 1.0, 0.0, 0.0, 1.0, -1.0, 1.0, 0.0, 0.0, -2.0, -1.0, 1.0, 4.0, 0.0, 0.0, -1.0, 2.0, -4.0, -2.0, -3.0, -1.0, -1.0, 2.0, 0.0, -2.0, 1.0, -2.0, -4.0, -4.0, -2.0, 2.0, -5.0, 2.0, 1.0, 0.0, -2.0, 0.0, 0.0, 0.0, 3.0, 1.0, -1.0, -6.0, 0.0, -2.0, 0.0, -2.0, 0.0, 1.0, -2.0, -5.0, -2.0, -1.0, 1.0, -1.0, 1.0, 2.0, -1.0, 1.0, 0.0, -2.0, -6.0, -2.0, -5.0, 0.0, 0.0, -2.0, -1.0, -4.0, -1.0, 1.0, 0.0, -1.0, 0.0, -3.0, 0.0, 0.0, 2.0, -1.0, -1.0, -4.0, 1.0, -2.0, 0.0, 0.0, 0.0, 0.0, -4.0, 3.0]\n"
     ]
    }
   ],
   "source": [
    "print(err)"
   ]
  },
  {
   "cell_type": "code",
   "execution_count": 74,
   "id": "965d5e4c-41af-4526-82e3-caa563a935bf",
   "metadata": {
    "tags": []
   },
   "outputs": [
    {
     "data": {
      "text/plain": [
       "(10, 10)"
      ]
     },
     "execution_count": 74,
     "metadata": {},
     "output_type": "execute_result"
    }
   ],
   "source": [
    "nn.A.shape"
   ]
  },
  {
   "cell_type": "code",
   "execution_count": null,
   "id": "3414346c-cd00-4b5c-97ce-43dfcdb6736a",
   "metadata": {},
   "outputs": [],
   "source": []
  }
 ],
 "metadata": {
  "kernelspec": {
   "display_name": "Python 3 (ipykernel)",
   "language": "python",
   "name": "python3"
  },
  "language_info": {
   "codemirror_mode": {
    "name": "ipython",
    "version": 3
   },
   "file_extension": ".py",
   "mimetype": "text/x-python",
   "name": "python",
   "nbconvert_exporter": "python",
   "pygments_lexer": "ipython3",
   "version": "3.11.3"
  }
 },
 "nbformat": 4,
 "nbformat_minor": 5
}
