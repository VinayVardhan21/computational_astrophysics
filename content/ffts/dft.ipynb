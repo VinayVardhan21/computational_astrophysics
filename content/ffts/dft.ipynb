{
 "cells": [
  {
   "cell_type": "markdown",
   "id": "959f4528-d47a-453e-8edb-8dc29848ea8b",
   "metadata": {},
   "source": [
    "# Discrete Fourier Transform\n",
    "\n",
    "Let's implement a discrete Fourier transform.\n",
    "\n",
    "We essentially want to code up:\n",
    "\n",
    "$$F_k = \\sum_{n = 0}^{N-1} f_n e^{-2\\pi i n k / N}$$\n",
    "\n",
    "This requires a double sum: for each wavenumber, $k$, we sum over all the spatial points."
   ]
  },
  {
   "cell_type": "code",
   "execution_count": 2,
   "id": "5089a974-6ae4-4b29-b12c-0dfa4c626b6b",
   "metadata": {},
   "outputs": [],
   "source": [
    "import numpy as np"
   ]
  },
  {
   "cell_type": "code",
   "execution_count": 3,
   "id": "ab0581e3-ccdc-432d-aa5b-3f5e248d1a70",
   "metadata": {},
   "outputs": [],
   "source": [
    "def dft(f_n):\n",
    "    \n",
    "    N = len(f_n)\n",
    "    f_k = np.zeros((N), dtype=np.complex128)\n",
    "\n",
    "    for k in range(N):\n",
    "        for n in range(N):\n",
    "            f_k[k] += f_n[n] * np.exp(-2.0 * np.pi * 1j * n * k / N)\n",
    "\n",
    "    return f_k"
   ]
  },
  {
   "cell_type": "markdown",
   "id": "5cdc5b71-cc7f-4378-a970-93a22ea5aba1",
   "metadata": {},
   "source": [
    "Notice that in python, the complex unit, $\\sqrt{-1}$ is denoted by `j`"
   ]
  },
  {
   "cell_type": "code",
   "execution_count": null,
   "id": "d8ede317-7287-4c00-a7c3-c6e469d5fc34",
   "metadata": {},
   "outputs": [],
   "source": []
  }
 ],
 "metadata": {
  "kernelspec": {
   "display_name": "Python 3 (ipykernel)",
   "language": "python",
   "name": "python3"
  },
  "language_info": {
   "codemirror_mode": {
    "name": "ipython",
    "version": 3
   },
   "file_extension": ".py",
   "mimetype": "text/x-python",
   "name": "python",
   "nbconvert_exporter": "python",
   "pygments_lexer": "ipython3",
   "version": "3.10.9"
  }
 },
 "nbformat": 4,
 "nbformat_minor": 5
}
