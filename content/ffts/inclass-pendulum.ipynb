{
 "cells": [
  {
   "cell_type": "markdown",
   "id": "e787c8fc-b160-4d7d-9217-730d3129d8d1",
   "metadata": {},
   "source": [
    "# In-class Example: The Pendulum\n",
    "\n",
    "In the last homework, you integrated a finite-amplitude pendulum and looked at the energy conservation properties.  Now we'll look at the FFT of the pendulum."
   ]
  },
  {
   "cell_type": "code",
   "execution_count": 2,
   "id": "016d4780-6ea8-4c3d-bc3c-d24012836fa2",
   "metadata": {
    "tags": []
   },
   "outputs": [],
   "source": [
    "import numpy as np\n",
    "import matplotlib.pyplot as plt"
   ]
  },
  {
   "cell_type": "markdown",
   "id": "36acfe3e-b17d-49c0-a159-c3be274fed9d",
   "metadata": {},
   "source": [
    "Here's a simple class that creates a pendulum and can integrate it using _fixed timesteps_.  It is important that our data be regularly spaced for the FFT."
   ]
  },
  {
   "cell_type": "code",
   "execution_count": 1,
   "id": "59052a31-4db1-4727-a1aa-cb67e8a4df07",
   "metadata": {
    "tags": []
   },
   "outputs": [],
   "source": [
    "class Pendulum:\n",
    "    \"\"\" a simple pendulum (w/o the small angle approximation) \"\"\"\n",
    "\n",
    "    def __init__(self, theta0, g=9.81, L=9.81):\n",
    "\n",
    "        self.theta0 = np.radians(theta0)\n",
    "        self.g = g\n",
    "        self.L = L\n",
    "\n",
    "        self.t = None\n",
    "        self.theta = None\n",
    "        self.omega = None\n",
    "\n",
    "    def period(self):\n",
    "        \"\"\" return the period up to the theta**2 term \"\"\"\n",
    "\n",
    "        # this is Garcia Eq. 2.38\n",
    "        return 2.0*np.pi*np.sqrt(self.L/self.g)*(1.0 + self.theta0**2/16.0)\n",
    "\n",
    "    def rhs(self, theta, omega):\n",
    "        \"\"\" equations of motion for a pendulum\n",
    "              dtheta/dt = omega\n",
    "              domega/dt = - (g/L) sin theta \"\"\"\n",
    "\n",
    "        return np.array([omega, -(self.g/self.L)*np.sin(theta)])\n",
    "\n",
    "    def integrate(self, dt, tmax):\n",
    "        \"\"\"integrate the equations of motion using 4th-order\n",
    "        Runge-Kutta. Here, theta0 is the initial angle from vertical,\n",
    "        in radians.\n",
    "\n",
    "        Note: we use uniform steps here -- this is important to allow\n",
    "        for an FFT (which needs uniformly spaced samples).\n",
    "\n",
    "        \"\"\"\n",
    "\n",
    "        # initial conditions\n",
    "        t = 0.0\n",
    "        theta = self.theta0\n",
    "        omega = 0.0    # at the maximum angle, the angular velocity is 0\n",
    "\n",
    "        # store the history for plotting\n",
    "        t_s = [t]\n",
    "        theta_s = [theta]\n",
    "        omega_s = [omega]\n",
    "\n",
    "        while t < tmax:\n",
    "\n",
    "            # get the RHS at time-level n\n",
    "            thetadot1, omegadot1 = self.rhs(theta, omega)\n",
    "\n",
    "            thetadot2, omegadot2 = self.rhs(theta + 0.5*dt*thetadot1,\n",
    "                                            omega + 0.5*dt*omegadot1)\n",
    "\n",
    "            thetadot3, omegadot3 = self.rhs(theta + 0.5*dt*thetadot2,\n",
    "                                            omega + 0.5*dt*omegadot2)\n",
    "\n",
    "            thetadot4, omegadot4 = self.rhs(theta + dt*thetadot3,\n",
    "                                            omega + dt*omegadot3)\n",
    "\n",
    "            theta += (dt/6.0)*(thetadot1 + 2.0*thetadot2 +\n",
    "                               2.0*thetadot3 + thetadot4)\n",
    "\n",
    "            omega += (dt/6.0)*(omegadot1 + 2.0*omegadot2 +\n",
    "                               2.0*omegadot3 + omegadot4)\n",
    "\n",
    "            t += dt\n",
    "\n",
    "            # store\n",
    "            t_s.append(t)\n",
    "            theta_s.append(theta)\n",
    "            omega_s.append(omega)\n",
    "\n",
    "        self.t = np.asarray(t_s)\n",
    "        self.theta = np.asarray(theta_s)\n",
    "        self.omega = np.asarray(omega_s)"
   ]
  },
  {
   "cell_type": "code",
   "execution_count": null,
   "id": "e24a9c56-d145-4ec9-b2fa-e661716a6d5a",
   "metadata": {},
   "outputs": [],
   "source": []
  }
 ],
 "metadata": {
  "kernelspec": {
   "display_name": "Python 3 (ipykernel)",
   "language": "python",
   "name": "python3"
  },
  "language_info": {
   "codemirror_mode": {
    "name": "ipython",
    "version": 3
   },
   "file_extension": ".py",
   "mimetype": "text/x-python",
   "name": "python",
   "nbconvert_exporter": "python",
   "pygments_lexer": "ipython3",
   "version": "3.10.9"
  }
 },
 "nbformat": 4,
 "nbformat_minor": 5
}
