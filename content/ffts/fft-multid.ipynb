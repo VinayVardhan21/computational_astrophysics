{
 "cells": [
  {
   "cell_type": "markdown",
   "id": "a0a110b4-4721-4560-9c6f-4e3af1c18eea",
   "metadata": {},
   "source": [
    "# FFT in Multiple Dimensions\n",
    "\n",
    "We can extend our FFT to more than one dimension.  Consider the 2-d case:\n",
    "\n",
    "\\begin{align*}\n",
    "F_{k_x,k_y} &= \\sum_{m =0}^{N_x - 1} \\sum_{n=0}^{N_y -1}\n",
    "f_{mn} e^{-2\\pi i (k_x m/N_x + k_y n/N_y)} \\\\\n",
    " &= \\sum_{m =0}^{N_x - 1} \n",
    "e^{-2\\pi i k_x m/N_x}\n",
    "\\underbrace{\\sum_{n=0}^{N_y -1} f_{mn} e^{-2\\pi i k_y n/N_y}}_{\\mbox{this is the y transform}}\n",
    "\\end{align*}\n",
    "\n",
    "We see that we can decompose the multi-dimensional transform into a sequence of one-dimensional FFTs."
   ]
  },
  {
   "cell_type": "markdown",
   "id": "428d65a8-2c09-4f4f-8082-d3207960cbb5",
   "metadata": {},
   "source": [
    "## Application: Turbulent Power Spectrum\n",
    "\n",
    "One of the ways this is used frequently in astrophysics is to compute the power spectrum of a velocity field to look at the\n",
    "[turbulence](https://en.wikipedia.org/wiki/Turbulence) properties.\n",
    "\n",
    "For a simulation with velocity components $u$, $v$, and $w$, we compute the power spectrum as:\n",
    "\n",
    "$$E(k) = \\int_{k=|k|} dk [ \\hat{u}(k)^2 + \\hat{v}(k)^2 + \\hat{w}(k)^2 ]$$\n",
    "\n",
    "where $k$ is the radial wavenumber, $k = \\sqrt{k_x^2 + k_y^2 + k_z^2}$.  This gives us the power at a scake $k$.\n",
    "\n",
    "Kolmogorov turbulence theory says that homogeneous, isotropic, incompressible turblence should scale like:\n",
    "\n",
    "$$E(k) dk \\sim k^{-5/3}$$\n",
    "\n",
    "We can see this behavior, for example here: https://ui.adsabs.harvard.edu/abs/2005ApJ...632.1021Z/abstract"
   ]
  },
  {
   "cell_type": "code",
   "execution_count": null,
   "id": "2ffbaf5e-4f51-47d1-9a32-2599e603d28c",
   "metadata": {},
   "outputs": [],
   "source": []
  }
 ],
 "metadata": {
  "kernelspec": {
   "display_name": "Python 3 (ipykernel)",
   "language": "python",
   "name": "python3"
  },
  "language_info": {
   "codemirror_mode": {
    "name": "ipython",
    "version": 3
   },
   "file_extension": ".py",
   "mimetype": "text/x-python",
   "name": "python",
   "nbconvert_exporter": "python",
   "pygments_lexer": "ipython3",
   "version": "3.10.10"
  }
 },
 "nbformat": 4,
 "nbformat_minor": 5
}
