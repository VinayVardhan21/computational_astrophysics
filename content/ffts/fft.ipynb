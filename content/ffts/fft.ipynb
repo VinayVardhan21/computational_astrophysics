{
 "cells": [
  {
   "cell_type": "markdown",
   "id": "0588668a-23b6-480f-99ce-4fca922c5e98",
   "metadata": {},
   "source": [
    "# Fast Fourier Transform\n",
    "\n",
    "So far we have been working with the _discrete Fourier transform_ (DFT).  This does what we want, but its complexity scales like $\\mathcal{O}(N^2)$, so for really large datasets, it will be slow.\n",
    "\n",
    "The fast Fourier transform (FFT) is algebraically identical to the DFT, but uses some clever tricks to speed up the computation, resulting in an algorithm that scales like $\\mathcal{O}(N\\log N)$."
   ]
  },
  {
   "cell_type": "code",
   "execution_count": null,
   "id": "62ac7ffe-1db0-42e6-916f-ae1cce16d942",
   "metadata": {},
   "outputs": [],
   "source": []
  }
 ],
 "metadata": {
  "kernelspec": {
   "display_name": "Python 3 (ipykernel)",
   "language": "python",
   "name": "python3"
  },
  "language_info": {
   "codemirror_mode": {
    "name": "ipython",
    "version": 3
   },
   "file_extension": ".py",
   "mimetype": "text/x-python",
   "name": "python",
   "nbconvert_exporter": "python",
   "pygments_lexer": "ipython3",
   "version": "3.10.9"
  }
 },
 "nbformat": 4,
 "nbformat_minor": 5
}
